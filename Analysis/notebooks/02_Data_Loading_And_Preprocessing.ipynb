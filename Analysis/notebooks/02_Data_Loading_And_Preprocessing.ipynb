{
 "cells": [
  {
   "cell_type": "markdown",
   "id": "0d4b3d52-1fd1-4ff3-97be-2a669b822469",
   "metadata": {},
   "source": [
    "# Notebook 02 – Data Loading and Preprocessing"
   ]
  },
  {
   "cell_type": "markdown",
   "id": "9913c4a4-84b6-42cd-9615-2d1880b134df",
   "metadata": {},
   "source": [
    "This notebook prepares the Alzheimer's disease dataset so it can be used in analysis and machine learning.  \n",
    "We clean and transform the data to ensure high quality and usability.\n",
    "\n",
    "#### In this notebook we:\n",
    "- Load the dataset and take a first look at it.\n",
    "- Find and handle missing values.\n",
    "- Remove any duplicate rows.\n",
    "- Convert text categories into numbers so the computer can understand them. (encoding)\n",
    "- Organize the data in a way that makes it ready for analysis.\n",
    "\n",
    "The cleaned data we create here will be used in the next notebook for exploring patterns and building models."
   ]
  },
  {
   "cell_type": "markdown",
   "id": "1edde1b9-a127-47ed-aeea-8e806d2ddf54",
   "metadata": {},
   "source": [
    "----------------------------------------------"
   ]
  },
  {
   "cell_type": "markdown",
   "id": "275a26b0-a570-4fc3-9587-b6c2e4bb06bd",
   "metadata": {},
   "source": [
    "## Setup And Load Environment"
   ]
  },
  {
   "cell_type": "markdown",
   "id": "c966b09a-978f-42f5-8d00-6a7df0f3a3eb",
   "metadata": {},
   "source": [
    "To get started, we need to set up our working environment. For this, we use some helper functions that we have created and stored in a folder called utils. These helper functions help us:\n",
    "- Create folders to keep the project organized (such as data, models, plots, and reports)\n",
    "- Apply default chart styles using Seaborn\n",
    "- Load datasets and quickly explore them\n",
    "\n",
    "Along with that, we also import common libraries like Pandas, NumPy, Seaborn and Matplotlib, which we will be using throughout the project."
   ]
  },
  {
   "cell_type": "code",
   "execution_count": 40,
   "id": "706074f3-c0d0-4682-bf64-f3db6e248616",
   "metadata": {},
   "outputs": [
    {
     "name": "stdout",
     "output_type": "stream",
     "text": [
      "Environment setup complete.\n",
      "All libraries imported and environment initialized.\n"
     ]
    }
   ],
   "source": [
    "# We are adding the parent folder to the Python path so we can import files from the \"utils\" folder\n",
    "import sys\n",
    "sys.path.append(\"..\")\n",
    "\n",
    "# Importing the custom helper functions from our project\n",
    "from utils.setup_notebook import (\n",
    "    init_environment,\n",
    "    load_csv,\n",
    "    print_shape,\n",
    "    print_info,\n",
    "    print_full_info,\n",
    "    print_description,\n",
    "    print_categorical_description,\n",
    "    show_head\n",
    ")\n",
    "from utils.save_tools import save_plot, save_notebook_and_summary\n",
    "\n",
    "# Importing commonly used libraries\n",
    "import pandas as pd\n",
    "import numpy as np\n",
    "import seaborn as sns\n",
    "import matplotlib.pyplot as plt\n",
    "from IPython.display import display\n",
    "\n",
    "# Running environment setup\n",
    "init_environment()\n",
    "print(\"All libraries imported and environment initialized.\")"
   ]
  },
  {
   "cell_type": "markdown",
   "id": "f10118cd-f219-4301-9059-2eba154f18ca",
   "metadata": {},
   "source": [
    "----------------------------"
   ]
  },
  {
   "cell_type": "markdown",
   "id": "8f9a3e68-fe2a-44b8-9739-d4b0dff28930",
   "metadata": {},
   "source": [
    "## Extract – Load the Dataset\n",
    "\n",
    "In this step, we load the raw Alzheimer's dataset into our project using a custom helper function from our setup.py script. The dataset has not yet been cleaned or processed, this is the original version as collected.\n",
    "Our helper function uses pandas to read the CSV file and automatically provides basic metadata. \n",
    "\n",
    "### Including:\n",
    "- The file path from which the data was loaded.  \n",
    "- The number of rows and columns present in the dataset.  \n",
    "\n",
    "This step ensures that we have successfully accessed the correct dataset and gives us an initial understanding of its structure and scale before we proceed with cleaning and transformation. To keep the original intact, a working copy is also created. This ensures we can freely clean, explore, and manipulate the data without altering the raw file."
   ]
  },
  {
   "cell_type": "code",
   "execution_count": 41,
   "id": "6892794d-b69e-43aa-b106-629450f312a6",
   "metadata": {
    "scrolled": true
   },
   "outputs": [
    {
     "name": "stdout",
     "output_type": "stream",
     "text": [
      "Loaded data from ../data/alzheimers_disease_raw_data.csv with shape (2149, 35)\n",
      "Copy of df_raw dataset created as 'df' succesfully\n"
     ]
    }
   ],
   "source": [
    "# We load the raw Alzheimer's dataset and save it as 'df_raw'\n",
    "df_raw = load_csv(\"../data/alzheimers_disease_raw_data.csv\")\n",
    "\n",
    "# Then we create a working copy to avoid modifying the raw dataset directly\n",
    "df = df_raw.copy()\n",
    "print(\"Copy of df_raw dataset created as 'df' succesfully\")"
   ]
  },
  {
   "cell_type": "markdown",
   "id": "751db888-3016-4409-9515-2043a108d2fd",
   "metadata": {},
   "source": [
    "We save the working copy of the dataset to the project folder. This allows us to reuse it later without reloading or reprocessing the raw data each time. It also keeps the original dataset unchanged in case we need to go back to it."
   ]
  },
  {
   "cell_type": "code",
   "execution_count": 42,
   "id": "49ad315d-a206-4b8e-8726-9c0c9a02c206",
   "metadata": {},
   "outputs": [
    {
     "name": "stdout",
     "output_type": "stream",
     "text": [
      "Dataset saved to ../data/alzheimers_raw_copy.csv\n"
     ]
    }
   ],
   "source": [
    "# Save the copy of the dataset for future steps\n",
    "df.to_csv(\"../data/alzheimers_raw_copy.csv\", index=False)\n",
    "print(\"Dataset saved to ../data/alzheimers_raw_copy.csv\")"
   ]
  },
  {
   "cell_type": "markdown",
   "id": "28dffddc-6746-4f50-adba-2699b71fac3c",
   "metadata": {},
   "source": [
    "------------------------------"
   ]
  },
  {
   "cell_type": "markdown",
   "id": "5d4dd86b-a144-42b1-a1d9-7a353df01bb1",
   "metadata": {},
   "source": [
    "### ELT Approach: Extract → Load → Transform\n",
    "\n",
    "In this project, we follow the ELT (Extract, Load, Transform) process to prepare the Alzheimer’s dataset for analysis and modeling.\n",
    "- **Extract**: We begin by accessing the raw dataset, which is provided in CSV format.\n",
    "- **Load**: Using pandas, we load the dataset into memory so it can be explored and manipulated.\n",
    "- **Transform**: We then clean and organize the data by checking for duplicates, handling missing values, removing unnecessary ID columns, and grouping features by type. These steps make the dataset ready for machine learning.\n",
    "\n",
    "This approach reflects a modern data workflow, where raw data is loaded first and then transformed in memory. It allows for faster iteration, flexible processing, and better reproducibility."
   ]
  },
  {
   "cell_type": "markdown",
   "id": "ab6b047e-20d7-4bff-8313-a0053f0c74ce",
   "metadata": {},
   "source": [
    "---------------"
   ]
  },
  {
   "cell_type": "markdown",
   "id": "72c77cd4-1a51-4160-949b-70beae9f90e2",
   "metadata": {},
   "source": [
    "## Alternative Approach – Load Libraries\n",
    "\n",
    "Before we can work with the data, we need to import the necessary Python libraries:\n",
    "\n",
    "- **pandas** is used for handling tabular data (structured data in rows and columns, like a spreadsheet). It helps us load, clean, and manage datasets.\n",
    "- **numpy** is used for numerical operations, especially with arrays and mathematical functions.\n",
    "- **matplotlib.pyplot** and **seaborn** are used for visualizing data through plots and charts.\n",
    "\n",
    "After importing the libraries, we use read_csv() to load the dataset into a DataFrame called df, and use head() to preview the first five rows.\n",
    "\n",
    "This setup step is important because it gives us the tools needed for cleaning, exploring, and later modeling the dataset."
   ]
  },
  {
   "cell_type": "code",
   "execution_count": 43,
   "id": "167f1374-baec-465e-998a-6e768a69617b",
   "metadata": {},
   "outputs": [
    {
     "name": "stdout",
     "output_type": "stream",
     "text": [
      "All libraries imported and environment initialized.\n"
     ]
    }
   ],
   "source": [
    "import pandas as pd\n",
    "import numpy as np\n",
    "import matplotlib.pyplot as plt\n",
    "import seaborn as sns \n",
    "from sklearn.preprocessing import StandardScaler\n",
    "\n",
    "print(\"All libraries imported and environment initialized.\")"
   ]
  },
  {
   "cell_type": "code",
   "execution_count": 44,
   "id": "b3c2573d-a584-40a7-95cd-c8b5b46fa400",
   "metadata": {},
   "outputs": [
    {
     "name": "stdout",
     "output_type": "stream",
     "text": [
      "Dataset loaded successfully.\n"
     ]
    }
   ],
   "source": [
    "# We load the dataset\n",
    "dataframe = pd.read_csv(\"../data/alzheimers_disease_raw_data.csv\")\n",
    "print(\"Dataset loaded successfully.\")"
   ]
  },
  {
   "cell_type": "markdown",
   "id": "26fdcd18-d70f-4406-86f5-50f13e852e33",
   "metadata": {},
   "source": [
    "-----------------------------------------"
   ]
  },
  {
   "cell_type": "markdown",
   "id": "d4bfc976-6642-4c72-8d04-3627c5cec43f",
   "metadata": {},
   "source": [
    "## Initial Data Inspection"
   ]
  },
  {
   "cell_type": "markdown",
   "id": "5e1c146c-250a-4817-9862-b453f99c82f2",
   "metadata": {},
   "source": [
    "Now that the dataset is loaded and saved as a dataframe, we begin performing an initial inspection to understand the structure and contents. This helps us identify potential issues early and plan the cleaning steps that follow. We focus on:\n",
    "- The number of rows and columns in dataframe.\n",
    "- The data types of each column.\n",
    "- The presence of missing values.\n",
    "- Descriptive statistics for both numeric and categorical variables.\n",
    "- A sample of the first 5 rows for quick overview."
   ]
  },
  {
   "cell_type": "code",
   "execution_count": 45,
   "id": "9ebbf02f-d88d-4004-a15a-b0120585144a",
   "metadata": {},
   "outputs": [
    {
     "name": "stdout",
     "output_type": "stream",
     "text": [
      "----- Dataset Shape -----\n",
      "Rows: 2149, Columns: 35\n"
     ]
    }
   ],
   "source": [
    "# Check the number of rows and columns in the dataframe\n",
    "print_shape(df)"
   ]
  },
  {
   "cell_type": "markdown",
   "id": "fe603894-c1ee-43af-83b4-c6cfcf366df4",
   "metadata": {},
   "source": [
    "#### Dataset Dimensions\n",
    "The dataset contains 2,149 rows and 35 columns. Each row represents one patient, and each column provides a specific clinical, lifestyle, or cognitive feature."
   ]
  },
  {
   "cell_type": "code",
   "execution_count": 46,
   "id": "3c3e5ade-416f-4f30-af1a-f3b50927daf0",
   "metadata": {},
   "outputs": [
    {
     "name": "stdout",
     "output_type": "stream",
     "text": [
      "\n",
      "----- Data Types and Non-Null Counts -----\n",
      "<class 'pandas.core.frame.DataFrame'>\n",
      "RangeIndex: 2149 entries, 0 to 2148\n",
      "Columns: 35 entries, PatientID to DoctorInCharge\n",
      "dtypes: float64(12), int64(22), object(1)\n",
      "memory usage: 587.7+ KB\n"
     ]
    }
   ],
   "source": [
    "# View data types and non-null counts for each column\n",
    "print_info(df)"
   ]
  },
  {
   "cell_type": "markdown",
   "id": "e4517c83-6595-4712-9249-e152607cac3c",
   "metadata": {},
   "source": [
    "#### Data Types and Completeness\n",
    "The overview tells us that 35 columns are fully populated, meaning there are no missing values in any part of the dataset.\n",
    "The data types are mostly numeric:\n",
    "\n",
    "- 22 columns are stored as integers (0 or 1 for yes/no values).\n",
    "- 12 columns are float values, which allow decimals.\n",
    "- 1 column (DoctorInCharge) is a text field and not needed for modeling.\n",
    "\n",
    "This structure makes the data ready for analysis without needing to fill or drop missing values."
   ]
  },
  {
   "cell_type": "code",
   "execution_count": 47,
   "id": "93674289-5adc-4db1-8a86-7725cdf67781",
   "metadata": {},
   "outputs": [
    {
     "name": "stdout",
     "output_type": "stream",
     "text": [
      "\n",
      "----- Full Dataset Info -----\n",
      "<class 'pandas.core.frame.DataFrame'>\n",
      "RangeIndex: 2149 entries, 0 to 2148\n",
      "Data columns (total 35 columns):\n",
      " #   Column                     Non-Null Count  Dtype  \n",
      "---  ------                     --------------  -----  \n",
      " 0   PatientID                  2149 non-null   int64  \n",
      " 1   Age                        2149 non-null   int64  \n",
      " 2   Gender                     2149 non-null   int64  \n",
      " 3   Ethnicity                  2149 non-null   int64  \n",
      " 4   EducationLevel             2149 non-null   int64  \n",
      " 5   BMI                        2149 non-null   float64\n",
      " 6   Smoking                    2149 non-null   int64  \n",
      " 7   AlcoholConsumption         2149 non-null   float64\n",
      " 8   PhysicalActivity           2149 non-null   float64\n",
      " 9   DietQuality                2149 non-null   float64\n",
      " 10  SleepQuality               2149 non-null   float64\n",
      " 11  FamilyHistoryAlzheimers    2149 non-null   int64  \n",
      " 12  CardiovascularDisease      2149 non-null   int64  \n",
      " 13  Diabetes                   2149 non-null   int64  \n",
      " 14  Depression                 2149 non-null   int64  \n",
      " 15  HeadInjury                 2149 non-null   int64  \n",
      " 16  Hypertension               2149 non-null   int64  \n",
      " 17  SystolicBP                 2149 non-null   int64  \n",
      " 18  DiastolicBP                2149 non-null   int64  \n",
      " 19  CholesterolTotal           2149 non-null   float64\n",
      " 20  CholesterolLDL             2149 non-null   float64\n",
      " 21  CholesterolHDL             2149 non-null   float64\n",
      " 22  CholesterolTriglycerides   2149 non-null   float64\n",
      " 23  MMSE                       2149 non-null   float64\n",
      " 24  FunctionalAssessment       2149 non-null   float64\n",
      " 25  MemoryComplaints           2149 non-null   int64  \n",
      " 26  BehavioralProblems         2149 non-null   int64  \n",
      " 27  ADL                        2149 non-null   float64\n",
      " 28  Confusion                  2149 non-null   int64  \n",
      " 29  Disorientation             2149 non-null   int64  \n",
      " 30  PersonalityChanges         2149 non-null   int64  \n",
      " 31  DifficultyCompletingTasks  2149 non-null   int64  \n",
      " 32  Forgetfulness              2149 non-null   int64  \n",
      " 33  Diagnosis                  2149 non-null   int64  \n",
      " 34  DoctorInCharge             2149 non-null   object \n",
      "dtypes: float64(12), int64(22), object(1)\n",
      "memory usage: 587.7+ KB\n"
     ]
    }
   ],
   "source": [
    "# View full dataset structure with memory usage and types\n",
    "print_full_info(df)"
   ]
  },
  {
   "cell_type": "markdown",
   "id": "438bf7d0-e847-4cfd-9cd7-abd0c4d132ef",
   "metadata": {},
   "source": [
    "#### Memory and Structure\n",
    "Here we see an extended version. We also observe that the dataset uses about 587 KB of memory, which is very manageable for analysis in a local environment.Each column has the correct data type, and pandas has successfully recognized the structure. This means no extra type conversions are required at this stage."
   ]
  },
  {
   "cell_type": "code",
   "execution_count": 48,
   "id": "81e8a6d0-e798-4b41-b016-edd05f24b9cb",
   "metadata": {},
   "outputs": [
    {
     "name": "stdout",
     "output_type": "stream",
     "text": [
      "\n",
      "----- Statistical Summary -----\n",
      "This summary includes count, mean, std, min, max, and percentiles.\n",
      "\n"
     ]
    },
    {
     "data": {
      "text/html": [
       "<div>\n",
       "<style scoped>\n",
       "    .dataframe tbody tr th:only-of-type {\n",
       "        vertical-align: middle;\n",
       "    }\n",
       "\n",
       "    .dataframe tbody tr th {\n",
       "        vertical-align: top;\n",
       "    }\n",
       "\n",
       "    .dataframe thead th {\n",
       "        text-align: right;\n",
       "    }\n",
       "</style>\n",
       "<table border=\"1\" class=\"dataframe\">\n",
       "  <thead>\n",
       "    <tr style=\"text-align: right;\">\n",
       "      <th></th>\n",
       "      <th>count</th>\n",
       "      <th>unique</th>\n",
       "      <th>top</th>\n",
       "      <th>freq</th>\n",
       "      <th>mean</th>\n",
       "      <th>std</th>\n",
       "      <th>min</th>\n",
       "      <th>25%</th>\n",
       "      <th>50%</th>\n",
       "      <th>75%</th>\n",
       "      <th>max</th>\n",
       "    </tr>\n",
       "  </thead>\n",
       "  <tbody>\n",
       "    <tr>\n",
       "      <th>PatientID</th>\n",
       "      <td>2149.0</td>\n",
       "      <td>NaN</td>\n",
       "      <td>NaN</td>\n",
       "      <td>NaN</td>\n",
       "      <td>5825.0</td>\n",
       "      <td>620.507185</td>\n",
       "      <td>4751.0</td>\n",
       "      <td>5288.0</td>\n",
       "      <td>5825.0</td>\n",
       "      <td>6362.0</td>\n",
       "      <td>6899.0</td>\n",
       "    </tr>\n",
       "    <tr>\n",
       "      <th>Age</th>\n",
       "      <td>2149.0</td>\n",
       "      <td>NaN</td>\n",
       "      <td>NaN</td>\n",
       "      <td>NaN</td>\n",
       "      <td>74.908795</td>\n",
       "      <td>8.990221</td>\n",
       "      <td>60.0</td>\n",
       "      <td>67.0</td>\n",
       "      <td>75.0</td>\n",
       "      <td>83.0</td>\n",
       "      <td>90.0</td>\n",
       "    </tr>\n",
       "    <tr>\n",
       "      <th>Gender</th>\n",
       "      <td>2149.0</td>\n",
       "      <td>NaN</td>\n",
       "      <td>NaN</td>\n",
       "      <td>NaN</td>\n",
       "      <td>0.506282</td>\n",
       "      <td>0.500077</td>\n",
       "      <td>0.0</td>\n",
       "      <td>0.0</td>\n",
       "      <td>1.0</td>\n",
       "      <td>1.0</td>\n",
       "      <td>1.0</td>\n",
       "    </tr>\n",
       "    <tr>\n",
       "      <th>Ethnicity</th>\n",
       "      <td>2149.0</td>\n",
       "      <td>NaN</td>\n",
       "      <td>NaN</td>\n",
       "      <td>NaN</td>\n",
       "      <td>0.697534</td>\n",
       "      <td>0.996128</td>\n",
       "      <td>0.0</td>\n",
       "      <td>0.0</td>\n",
       "      <td>0.0</td>\n",
       "      <td>1.0</td>\n",
       "      <td>3.0</td>\n",
       "    </tr>\n",
       "    <tr>\n",
       "      <th>EducationLevel</th>\n",
       "      <td>2149.0</td>\n",
       "      <td>NaN</td>\n",
       "      <td>NaN</td>\n",
       "      <td>NaN</td>\n",
       "      <td>1.286645</td>\n",
       "      <td>0.904527</td>\n",
       "      <td>0.0</td>\n",
       "      <td>1.0</td>\n",
       "      <td>1.0</td>\n",
       "      <td>2.0</td>\n",
       "      <td>3.0</td>\n",
       "    </tr>\n",
       "    <tr>\n",
       "      <th>BMI</th>\n",
       "      <td>2149.0</td>\n",
       "      <td>NaN</td>\n",
       "      <td>NaN</td>\n",
       "      <td>NaN</td>\n",
       "      <td>27.655697</td>\n",
       "      <td>7.217438</td>\n",
       "      <td>15.008851</td>\n",
       "      <td>21.611408</td>\n",
       "      <td>27.823924</td>\n",
       "      <td>33.869778</td>\n",
       "      <td>39.992767</td>\n",
       "    </tr>\n",
       "    <tr>\n",
       "      <th>Smoking</th>\n",
       "      <td>2149.0</td>\n",
       "      <td>NaN</td>\n",
       "      <td>NaN</td>\n",
       "      <td>NaN</td>\n",
       "      <td>0.288506</td>\n",
       "      <td>0.453173</td>\n",
       "      <td>0.0</td>\n",
       "      <td>0.0</td>\n",
       "      <td>0.0</td>\n",
       "      <td>1.0</td>\n",
       "      <td>1.0</td>\n",
       "    </tr>\n",
       "    <tr>\n",
       "      <th>AlcoholConsumption</th>\n",
       "      <td>2149.0</td>\n",
       "      <td>NaN</td>\n",
       "      <td>NaN</td>\n",
       "      <td>NaN</td>\n",
       "      <td>10.039442</td>\n",
       "      <td>5.75791</td>\n",
       "      <td>0.002003</td>\n",
       "      <td>5.13981</td>\n",
       "      <td>9.934412</td>\n",
       "      <td>15.157931</td>\n",
       "      <td>19.989293</td>\n",
       "    </tr>\n",
       "    <tr>\n",
       "      <th>PhysicalActivity</th>\n",
       "      <td>2149.0</td>\n",
       "      <td>NaN</td>\n",
       "      <td>NaN</td>\n",
       "      <td>NaN</td>\n",
       "      <td>4.920202</td>\n",
       "      <td>2.857191</td>\n",
       "      <td>0.003616</td>\n",
       "      <td>2.570626</td>\n",
       "      <td>4.766424</td>\n",
       "      <td>7.427899</td>\n",
       "      <td>9.987429</td>\n",
       "    </tr>\n",
       "    <tr>\n",
       "      <th>DietQuality</th>\n",
       "      <td>2149.0</td>\n",
       "      <td>NaN</td>\n",
       "      <td>NaN</td>\n",
       "      <td>NaN</td>\n",
       "      <td>4.993138</td>\n",
       "      <td>2.909055</td>\n",
       "      <td>0.009385</td>\n",
       "      <td>2.458455</td>\n",
       "      <td>5.076087</td>\n",
       "      <td>7.558625</td>\n",
       "      <td>9.998346</td>\n",
       "    </tr>\n",
       "    <tr>\n",
       "      <th>SleepQuality</th>\n",
       "      <td>2149.0</td>\n",
       "      <td>NaN</td>\n",
       "      <td>NaN</td>\n",
       "      <td>NaN</td>\n",
       "      <td>7.051081</td>\n",
       "      <td>1.763573</td>\n",
       "      <td>4.002629</td>\n",
       "      <td>5.482997</td>\n",
       "      <td>7.115646</td>\n",
       "      <td>8.562521</td>\n",
       "      <td>9.99984</td>\n",
       "    </tr>\n",
       "    <tr>\n",
       "      <th>FamilyHistoryAlzheimers</th>\n",
       "      <td>2149.0</td>\n",
       "      <td>NaN</td>\n",
       "      <td>NaN</td>\n",
       "      <td>NaN</td>\n",
       "      <td>0.25221</td>\n",
       "      <td>0.434382</td>\n",
       "      <td>0.0</td>\n",
       "      <td>0.0</td>\n",
       "      <td>0.0</td>\n",
       "      <td>1.0</td>\n",
       "      <td>1.0</td>\n",
       "    </tr>\n",
       "    <tr>\n",
       "      <th>CardiovascularDisease</th>\n",
       "      <td>2149.0</td>\n",
       "      <td>NaN</td>\n",
       "      <td>NaN</td>\n",
       "      <td>NaN</td>\n",
       "      <td>0.144253</td>\n",
       "      <td>0.351428</td>\n",
       "      <td>0.0</td>\n",
       "      <td>0.0</td>\n",
       "      <td>0.0</td>\n",
       "      <td>0.0</td>\n",
       "      <td>1.0</td>\n",
       "    </tr>\n",
       "    <tr>\n",
       "      <th>Diabetes</th>\n",
       "      <td>2149.0</td>\n",
       "      <td>NaN</td>\n",
       "      <td>NaN</td>\n",
       "      <td>NaN</td>\n",
       "      <td>0.150768</td>\n",
       "      <td>0.357906</td>\n",
       "      <td>0.0</td>\n",
       "      <td>0.0</td>\n",
       "      <td>0.0</td>\n",
       "      <td>0.0</td>\n",
       "      <td>1.0</td>\n",
       "    </tr>\n",
       "    <tr>\n",
       "      <th>Depression</th>\n",
       "      <td>2149.0</td>\n",
       "      <td>NaN</td>\n",
       "      <td>NaN</td>\n",
       "      <td>NaN</td>\n",
       "      <td>0.200558</td>\n",
       "      <td>0.400511</td>\n",
       "      <td>0.0</td>\n",
       "      <td>0.0</td>\n",
       "      <td>0.0</td>\n",
       "      <td>0.0</td>\n",
       "      <td>1.0</td>\n",
       "    </tr>\n",
       "    <tr>\n",
       "      <th>HeadInjury</th>\n",
       "      <td>2149.0</td>\n",
       "      <td>NaN</td>\n",
       "      <td>NaN</td>\n",
       "      <td>NaN</td>\n",
       "      <td>0.092601</td>\n",
       "      <td>0.28994</td>\n",
       "      <td>0.0</td>\n",
       "      <td>0.0</td>\n",
       "      <td>0.0</td>\n",
       "      <td>0.0</td>\n",
       "      <td>1.0</td>\n",
       "    </tr>\n",
       "    <tr>\n",
       "      <th>Hypertension</th>\n",
       "      <td>2149.0</td>\n",
       "      <td>NaN</td>\n",
       "      <td>NaN</td>\n",
       "      <td>NaN</td>\n",
       "      <td>0.148906</td>\n",
       "      <td>0.356079</td>\n",
       "      <td>0.0</td>\n",
       "      <td>0.0</td>\n",
       "      <td>0.0</td>\n",
       "      <td>0.0</td>\n",
       "      <td>1.0</td>\n",
       "    </tr>\n",
       "    <tr>\n",
       "      <th>SystolicBP</th>\n",
       "      <td>2149.0</td>\n",
       "      <td>NaN</td>\n",
       "      <td>NaN</td>\n",
       "      <td>NaN</td>\n",
       "      <td>134.264774</td>\n",
       "      <td>25.949352</td>\n",
       "      <td>90.0</td>\n",
       "      <td>112.0</td>\n",
       "      <td>134.0</td>\n",
       "      <td>157.0</td>\n",
       "      <td>179.0</td>\n",
       "    </tr>\n",
       "    <tr>\n",
       "      <th>DiastolicBP</th>\n",
       "      <td>2149.0</td>\n",
       "      <td>NaN</td>\n",
       "      <td>NaN</td>\n",
       "      <td>NaN</td>\n",
       "      <td>89.847836</td>\n",
       "      <td>17.592496</td>\n",
       "      <td>60.0</td>\n",
       "      <td>74.0</td>\n",
       "      <td>91.0</td>\n",
       "      <td>105.0</td>\n",
       "      <td>119.0</td>\n",
       "    </tr>\n",
       "    <tr>\n",
       "      <th>CholesterolTotal</th>\n",
       "      <td>2149.0</td>\n",
       "      <td>NaN</td>\n",
       "      <td>NaN</td>\n",
       "      <td>NaN</td>\n",
       "      <td>225.197519</td>\n",
       "      <td>42.542233</td>\n",
       "      <td>150.093316</td>\n",
       "      <td>190.252963</td>\n",
       "      <td>225.08643</td>\n",
       "      <td>262.031657</td>\n",
       "      <td>299.993352</td>\n",
       "    </tr>\n",
       "    <tr>\n",
       "      <th>CholesterolLDL</th>\n",
       "      <td>2149.0</td>\n",
       "      <td>NaN</td>\n",
       "      <td>NaN</td>\n",
       "      <td>NaN</td>\n",
       "      <td>124.335944</td>\n",
       "      <td>43.366584</td>\n",
       "      <td>50.230707</td>\n",
       "      <td>87.195798</td>\n",
       "      <td>123.342593</td>\n",
       "      <td>161.733733</td>\n",
       "      <td>199.965665</td>\n",
       "    </tr>\n",
       "    <tr>\n",
       "      <th>CholesterolHDL</th>\n",
       "      <td>2149.0</td>\n",
       "      <td>NaN</td>\n",
       "      <td>NaN</td>\n",
       "      <td>NaN</td>\n",
       "      <td>59.463533</td>\n",
       "      <td>23.139174</td>\n",
       "      <td>20.003434</td>\n",
       "      <td>39.095698</td>\n",
       "      <td>59.768237</td>\n",
       "      <td>78.93905</td>\n",
       "      <td>99.980324</td>\n",
       "    </tr>\n",
       "    <tr>\n",
       "      <th>CholesterolTriglycerides</th>\n",
       "      <td>2149.0</td>\n",
       "      <td>NaN</td>\n",
       "      <td>NaN</td>\n",
       "      <td>NaN</td>\n",
       "      <td>228.281496</td>\n",
       "      <td>101.986721</td>\n",
       "      <td>50.407194</td>\n",
       "      <td>137.583222</td>\n",
       "      <td>230.301983</td>\n",
       "      <td>314.839046</td>\n",
       "      <td>399.941862</td>\n",
       "    </tr>\n",
       "    <tr>\n",
       "      <th>MMSE</th>\n",
       "      <td>2149.0</td>\n",
       "      <td>NaN</td>\n",
       "      <td>NaN</td>\n",
       "      <td>NaN</td>\n",
       "      <td>14.755132</td>\n",
       "      <td>8.613151</td>\n",
       "      <td>0.005312</td>\n",
       "      <td>7.167602</td>\n",
       "      <td>14.44166</td>\n",
       "      <td>22.161028</td>\n",
       "      <td>29.991381</td>\n",
       "    </tr>\n",
       "    <tr>\n",
       "      <th>FunctionalAssessment</th>\n",
       "      <td>2149.0</td>\n",
       "      <td>NaN</td>\n",
       "      <td>NaN</td>\n",
       "      <td>NaN</td>\n",
       "      <td>5.080055</td>\n",
       "      <td>2.892743</td>\n",
       "      <td>0.00046</td>\n",
       "      <td>2.566281</td>\n",
       "      <td>5.094439</td>\n",
       "      <td>7.546981</td>\n",
       "      <td>9.996467</td>\n",
       "    </tr>\n",
       "    <tr>\n",
       "      <th>MemoryComplaints</th>\n",
       "      <td>2149.0</td>\n",
       "      <td>NaN</td>\n",
       "      <td>NaN</td>\n",
       "      <td>NaN</td>\n",
       "      <td>0.208004</td>\n",
       "      <td>0.405974</td>\n",
       "      <td>0.0</td>\n",
       "      <td>0.0</td>\n",
       "      <td>0.0</td>\n",
       "      <td>0.0</td>\n",
       "      <td>1.0</td>\n",
       "    </tr>\n",
       "    <tr>\n",
       "      <th>BehavioralProblems</th>\n",
       "      <td>2149.0</td>\n",
       "      <td>NaN</td>\n",
       "      <td>NaN</td>\n",
       "      <td>NaN</td>\n",
       "      <td>0.156817</td>\n",
       "      <td>0.363713</td>\n",
       "      <td>0.0</td>\n",
       "      <td>0.0</td>\n",
       "      <td>0.0</td>\n",
       "      <td>0.0</td>\n",
       "      <td>1.0</td>\n",
       "    </tr>\n",
       "    <tr>\n",
       "      <th>ADL</th>\n",
       "      <td>2149.0</td>\n",
       "      <td>NaN</td>\n",
       "      <td>NaN</td>\n",
       "      <td>NaN</td>\n",
       "      <td>4.982958</td>\n",
       "      <td>2.949775</td>\n",
       "      <td>0.001288</td>\n",
       "      <td>2.342836</td>\n",
       "      <td>5.038973</td>\n",
       "      <td>7.58149</td>\n",
       "      <td>9.999747</td>\n",
       "    </tr>\n",
       "    <tr>\n",
       "      <th>Confusion</th>\n",
       "      <td>2149.0</td>\n",
       "      <td>NaN</td>\n",
       "      <td>NaN</td>\n",
       "      <td>NaN</td>\n",
       "      <td>0.205212</td>\n",
       "      <td>0.40395</td>\n",
       "      <td>0.0</td>\n",
       "      <td>0.0</td>\n",
       "      <td>0.0</td>\n",
       "      <td>0.0</td>\n",
       "      <td>1.0</td>\n",
       "    </tr>\n",
       "    <tr>\n",
       "      <th>Disorientation</th>\n",
       "      <td>2149.0</td>\n",
       "      <td>NaN</td>\n",
       "      <td>NaN</td>\n",
       "      <td>NaN</td>\n",
       "      <td>0.158213</td>\n",
       "      <td>0.365026</td>\n",
       "      <td>0.0</td>\n",
       "      <td>0.0</td>\n",
       "      <td>0.0</td>\n",
       "      <td>0.0</td>\n",
       "      <td>1.0</td>\n",
       "    </tr>\n",
       "    <tr>\n",
       "      <th>PersonalityChanges</th>\n",
       "      <td>2149.0</td>\n",
       "      <td>NaN</td>\n",
       "      <td>NaN</td>\n",
       "      <td>NaN</td>\n",
       "      <td>0.150768</td>\n",
       "      <td>0.357906</td>\n",
       "      <td>0.0</td>\n",
       "      <td>0.0</td>\n",
       "      <td>0.0</td>\n",
       "      <td>0.0</td>\n",
       "      <td>1.0</td>\n",
       "    </tr>\n",
       "    <tr>\n",
       "      <th>DifficultyCompletingTasks</th>\n",
       "      <td>2149.0</td>\n",
       "      <td>NaN</td>\n",
       "      <td>NaN</td>\n",
       "      <td>NaN</td>\n",
       "      <td>0.158678</td>\n",
       "      <td>0.365461</td>\n",
       "      <td>0.0</td>\n",
       "      <td>0.0</td>\n",
       "      <td>0.0</td>\n",
       "      <td>0.0</td>\n",
       "      <td>1.0</td>\n",
       "    </tr>\n",
       "    <tr>\n",
       "      <th>Forgetfulness</th>\n",
       "      <td>2149.0</td>\n",
       "      <td>NaN</td>\n",
       "      <td>NaN</td>\n",
       "      <td>NaN</td>\n",
       "      <td>0.301536</td>\n",
       "      <td>0.459032</td>\n",
       "      <td>0.0</td>\n",
       "      <td>0.0</td>\n",
       "      <td>0.0</td>\n",
       "      <td>1.0</td>\n",
       "      <td>1.0</td>\n",
       "    </tr>\n",
       "    <tr>\n",
       "      <th>Diagnosis</th>\n",
       "      <td>2149.0</td>\n",
       "      <td>NaN</td>\n",
       "      <td>NaN</td>\n",
       "      <td>NaN</td>\n",
       "      <td>0.353653</td>\n",
       "      <td>0.478214</td>\n",
       "      <td>0.0</td>\n",
       "      <td>0.0</td>\n",
       "      <td>0.0</td>\n",
       "      <td>1.0</td>\n",
       "      <td>1.0</td>\n",
       "    </tr>\n",
       "    <tr>\n",
       "      <th>DoctorInCharge</th>\n",
       "      <td>2149</td>\n",
       "      <td>1</td>\n",
       "      <td>XXXConfid</td>\n",
       "      <td>2149</td>\n",
       "      <td>NaN</td>\n",
       "      <td>NaN</td>\n",
       "      <td>NaN</td>\n",
       "      <td>NaN</td>\n",
       "      <td>NaN</td>\n",
       "      <td>NaN</td>\n",
       "      <td>NaN</td>\n",
       "    </tr>\n",
       "  </tbody>\n",
       "</table>\n",
       "</div>"
      ],
      "text/plain": [
       "                            count unique        top  freq        mean  \\\n",
       "PatientID                  2149.0    NaN        NaN   NaN      5825.0   \n",
       "Age                        2149.0    NaN        NaN   NaN   74.908795   \n",
       "Gender                     2149.0    NaN        NaN   NaN    0.506282   \n",
       "Ethnicity                  2149.0    NaN        NaN   NaN    0.697534   \n",
       "EducationLevel             2149.0    NaN        NaN   NaN    1.286645   \n",
       "BMI                        2149.0    NaN        NaN   NaN   27.655697   \n",
       "Smoking                    2149.0    NaN        NaN   NaN    0.288506   \n",
       "AlcoholConsumption         2149.0    NaN        NaN   NaN   10.039442   \n",
       "PhysicalActivity           2149.0    NaN        NaN   NaN    4.920202   \n",
       "DietQuality                2149.0    NaN        NaN   NaN    4.993138   \n",
       "SleepQuality               2149.0    NaN        NaN   NaN    7.051081   \n",
       "FamilyHistoryAlzheimers    2149.0    NaN        NaN   NaN     0.25221   \n",
       "CardiovascularDisease      2149.0    NaN        NaN   NaN    0.144253   \n",
       "Diabetes                   2149.0    NaN        NaN   NaN    0.150768   \n",
       "Depression                 2149.0    NaN        NaN   NaN    0.200558   \n",
       "HeadInjury                 2149.0    NaN        NaN   NaN    0.092601   \n",
       "Hypertension               2149.0    NaN        NaN   NaN    0.148906   \n",
       "SystolicBP                 2149.0    NaN        NaN   NaN  134.264774   \n",
       "DiastolicBP                2149.0    NaN        NaN   NaN   89.847836   \n",
       "CholesterolTotal           2149.0    NaN        NaN   NaN  225.197519   \n",
       "CholesterolLDL             2149.0    NaN        NaN   NaN  124.335944   \n",
       "CholesterolHDL             2149.0    NaN        NaN   NaN   59.463533   \n",
       "CholesterolTriglycerides   2149.0    NaN        NaN   NaN  228.281496   \n",
       "MMSE                       2149.0    NaN        NaN   NaN   14.755132   \n",
       "FunctionalAssessment       2149.0    NaN        NaN   NaN    5.080055   \n",
       "MemoryComplaints           2149.0    NaN        NaN   NaN    0.208004   \n",
       "BehavioralProblems         2149.0    NaN        NaN   NaN    0.156817   \n",
       "ADL                        2149.0    NaN        NaN   NaN    4.982958   \n",
       "Confusion                  2149.0    NaN        NaN   NaN    0.205212   \n",
       "Disorientation             2149.0    NaN        NaN   NaN    0.158213   \n",
       "PersonalityChanges         2149.0    NaN        NaN   NaN    0.150768   \n",
       "DifficultyCompletingTasks  2149.0    NaN        NaN   NaN    0.158678   \n",
       "Forgetfulness              2149.0    NaN        NaN   NaN    0.301536   \n",
       "Diagnosis                  2149.0    NaN        NaN   NaN    0.353653   \n",
       "DoctorInCharge               2149      1  XXXConfid  2149         NaN   \n",
       "\n",
       "                                  std         min         25%         50%  \\\n",
       "PatientID                  620.507185      4751.0      5288.0      5825.0   \n",
       "Age                          8.990221        60.0        67.0        75.0   \n",
       "Gender                       0.500077         0.0         0.0         1.0   \n",
       "Ethnicity                    0.996128         0.0         0.0         0.0   \n",
       "EducationLevel               0.904527         0.0         1.0         1.0   \n",
       "BMI                          7.217438   15.008851   21.611408   27.823924   \n",
       "Smoking                      0.453173         0.0         0.0         0.0   \n",
       "AlcoholConsumption            5.75791    0.002003     5.13981    9.934412   \n",
       "PhysicalActivity             2.857191    0.003616    2.570626    4.766424   \n",
       "DietQuality                  2.909055    0.009385    2.458455    5.076087   \n",
       "SleepQuality                 1.763573    4.002629    5.482997    7.115646   \n",
       "FamilyHistoryAlzheimers      0.434382         0.0         0.0         0.0   \n",
       "CardiovascularDisease        0.351428         0.0         0.0         0.0   \n",
       "Diabetes                     0.357906         0.0         0.0         0.0   \n",
       "Depression                   0.400511         0.0         0.0         0.0   \n",
       "HeadInjury                    0.28994         0.0         0.0         0.0   \n",
       "Hypertension                 0.356079         0.0         0.0         0.0   \n",
       "SystolicBP                  25.949352        90.0       112.0       134.0   \n",
       "DiastolicBP                 17.592496        60.0        74.0        91.0   \n",
       "CholesterolTotal            42.542233  150.093316  190.252963   225.08643   \n",
       "CholesterolLDL              43.366584   50.230707   87.195798  123.342593   \n",
       "CholesterolHDL              23.139174   20.003434   39.095698   59.768237   \n",
       "CholesterolTriglycerides   101.986721   50.407194  137.583222  230.301983   \n",
       "MMSE                         8.613151    0.005312    7.167602    14.44166   \n",
       "FunctionalAssessment         2.892743     0.00046    2.566281    5.094439   \n",
       "MemoryComplaints             0.405974         0.0         0.0         0.0   \n",
       "BehavioralProblems           0.363713         0.0         0.0         0.0   \n",
       "ADL                          2.949775    0.001288    2.342836    5.038973   \n",
       "Confusion                     0.40395         0.0         0.0         0.0   \n",
       "Disorientation               0.365026         0.0         0.0         0.0   \n",
       "PersonalityChanges           0.357906         0.0         0.0         0.0   \n",
       "DifficultyCompletingTasks    0.365461         0.0         0.0         0.0   \n",
       "Forgetfulness                0.459032         0.0         0.0         0.0   \n",
       "Diagnosis                    0.478214         0.0         0.0         0.0   \n",
       "DoctorInCharge                    NaN         NaN         NaN         NaN   \n",
       "\n",
       "                                  75%         max  \n",
       "PatientID                      6362.0      6899.0  \n",
       "Age                              83.0        90.0  \n",
       "Gender                            1.0         1.0  \n",
       "Ethnicity                         1.0         3.0  \n",
       "EducationLevel                    2.0         3.0  \n",
       "BMI                         33.869778   39.992767  \n",
       "Smoking                           1.0         1.0  \n",
       "AlcoholConsumption          15.157931   19.989293  \n",
       "PhysicalActivity             7.427899    9.987429  \n",
       "DietQuality                  7.558625    9.998346  \n",
       "SleepQuality                 8.562521     9.99984  \n",
       "FamilyHistoryAlzheimers           1.0         1.0  \n",
       "CardiovascularDisease             0.0         1.0  \n",
       "Diabetes                          0.0         1.0  \n",
       "Depression                        0.0         1.0  \n",
       "HeadInjury                        0.0         1.0  \n",
       "Hypertension                      0.0         1.0  \n",
       "SystolicBP                      157.0       179.0  \n",
       "DiastolicBP                     105.0       119.0  \n",
       "CholesterolTotal           262.031657  299.993352  \n",
       "CholesterolLDL             161.733733  199.965665  \n",
       "CholesterolHDL               78.93905   99.980324  \n",
       "CholesterolTriglycerides   314.839046  399.941862  \n",
       "MMSE                        22.161028   29.991381  \n",
       "FunctionalAssessment         7.546981    9.996467  \n",
       "MemoryComplaints                  0.0         1.0  \n",
       "BehavioralProblems                0.0         1.0  \n",
       "ADL                           7.58149    9.999747  \n",
       "Confusion                         0.0         1.0  \n",
       "Disorientation                    0.0         1.0  \n",
       "PersonalityChanges                0.0         1.0  \n",
       "DifficultyCompletingTasks         0.0         1.0  \n",
       "Forgetfulness                     1.0         1.0  \n",
       "Diagnosis                         1.0         1.0  \n",
       "DoctorInCharge                    NaN         NaN  "
      ]
     },
     "metadata": {},
     "output_type": "display_data"
    }
   ],
   "source": [
    "# Get descriptive statistics for all variables (numeric and categorical)\n",
    "print_description(df)"
   ]
  },
  {
   "cell_type": "markdown",
   "id": "b4008fe0-212a-4071-8a09-2c4c4719012a",
   "metadata": {},
   "source": [
    "### Key Statistics and Distributions"
   ]
  },
  {
   "cell_type": "markdown",
   "id": "13c3d420-8c54-421d-94df-f5618e8a1024",
   "metadata": {},
   "source": [
    "Looking at the data more closely helps us see patterns and differences between patients. This step is useful for figuring out which features might help us predict Alzheimer’s and which ones might need extra processing later (like adjusting the scale or changing the format).\n",
    "\n",
    "### Key Points\n",
    "\n",
    "- **Age**: Most patients are between 60 and 90 years old, with an average age of about 75. This makes sense since Alzheimer’s mostly affects older adults.\n",
    "\n",
    "- **BMI (Body Mass Index)**: The average BMI is around 27.7, which falls in the overweight range. Since weight can affect both physical and brain health, BMI might be an important feature in our predictions.\n",
    "\n",
    "- **Alcohol Consumption**: On average, patients drink about 10 units of alcohol per week. Some drink more, some less. This difference could matter when we look at lifestyle risk factors.\n",
    "\n",
    "- **Blood Pressure (Systolic and Diastolic)**: The blood pressure numbers look normal for older adults, but there is quite a bit of variation. That could be important since heart health is linked to brain health.\n",
    "\n",
    "- **Cholesterol Levels**: These also vary a lot between people:\n",
    "  - **Total cholesterol:** Average is about 225 mg/dL  \n",
    "  - **LDL (bad cholesterol):** About 124 mg/dL  \n",
    "  - **HDL (good cholesterol):** Around 59 mg/dL  \n",
    "  - **Triglycerides:** These have the widest range and highest average, which might show differences in metabolism between patients."
   ]
  },
  {
   "cell_type": "markdown",
   "id": "556d0e08-72e0-430b-b9a4-db7a7615122d",
   "metadata": {},
   "source": [
    "\n",
    "- **MMSE Scores**: These scores, which check memory and thinking, range from 0 to 30. The average score is around 14.7, which means many patients show signs of cognitive decline.\n",
    "\n",
    "- **Binary Medical Conditions**: Things like Diabetes, Depression, and Hypertension are shown as 0 (no) or 1 (yes). These conditions may increase the risk of Alzheimer’s and can be useful in prediction.\n",
    "\n",
    "By reviewing the distributions and summary statistics, we get an early sense of which variables might be strong predictors, which ones are well-behaved, and whether we need to prepare the data in any special way (like removing outliers or standardizing ranges)."
   ]
  },
  {
   "cell_type": "code",
   "execution_count": 49,
   "id": "ab2db559-cb55-46ab-a338-207ba860a967",
   "metadata": {
    "scrolled": true
   },
   "outputs": [
    {
     "name": "stdout",
     "output_type": "stream",
     "text": [
      "\n",
      "----- First 5 Rows -----\n"
     ]
    },
    {
     "data": {
      "text/html": [
       "<div>\n",
       "<style scoped>\n",
       "    .dataframe tbody tr th:only-of-type {\n",
       "        vertical-align: middle;\n",
       "    }\n",
       "\n",
       "    .dataframe tbody tr th {\n",
       "        vertical-align: top;\n",
       "    }\n",
       "\n",
       "    .dataframe thead th {\n",
       "        text-align: right;\n",
       "    }\n",
       "</style>\n",
       "<table border=\"1\" class=\"dataframe\">\n",
       "  <thead>\n",
       "    <tr style=\"text-align: right;\">\n",
       "      <th></th>\n",
       "      <th>PatientID</th>\n",
       "      <th>Age</th>\n",
       "      <th>Gender</th>\n",
       "      <th>Ethnicity</th>\n",
       "      <th>EducationLevel</th>\n",
       "      <th>BMI</th>\n",
       "      <th>Smoking</th>\n",
       "      <th>AlcoholConsumption</th>\n",
       "      <th>PhysicalActivity</th>\n",
       "      <th>DietQuality</th>\n",
       "      <th>SleepQuality</th>\n",
       "      <th>FamilyHistoryAlzheimers</th>\n",
       "      <th>CardiovascularDisease</th>\n",
       "      <th>Diabetes</th>\n",
       "      <th>Depression</th>\n",
       "      <th>HeadInjury</th>\n",
       "      <th>Hypertension</th>\n",
       "      <th>SystolicBP</th>\n",
       "      <th>DiastolicBP</th>\n",
       "      <th>CholesterolTotal</th>\n",
       "      <th>CholesterolLDL</th>\n",
       "      <th>CholesterolHDL</th>\n",
       "      <th>CholesterolTriglycerides</th>\n",
       "      <th>MMSE</th>\n",
       "      <th>FunctionalAssessment</th>\n",
       "      <th>MemoryComplaints</th>\n",
       "      <th>BehavioralProblems</th>\n",
       "      <th>ADL</th>\n",
       "      <th>Confusion</th>\n",
       "      <th>Disorientation</th>\n",
       "      <th>PersonalityChanges</th>\n",
       "      <th>DifficultyCompletingTasks</th>\n",
       "      <th>Forgetfulness</th>\n",
       "      <th>Diagnosis</th>\n",
       "      <th>DoctorInCharge</th>\n",
       "    </tr>\n",
       "  </thead>\n",
       "  <tbody>\n",
       "    <tr>\n",
       "      <th>0</th>\n",
       "      <td>4751</td>\n",
       "      <td>73</td>\n",
       "      <td>0</td>\n",
       "      <td>0</td>\n",
       "      <td>2</td>\n",
       "      <td>22.927749</td>\n",
       "      <td>0</td>\n",
       "      <td>13.297218</td>\n",
       "      <td>6.327112</td>\n",
       "      <td>1.347214</td>\n",
       "      <td>9.025679</td>\n",
       "      <td>0</td>\n",
       "      <td>0</td>\n",
       "      <td>1</td>\n",
       "      <td>1</td>\n",
       "      <td>0</td>\n",
       "      <td>0</td>\n",
       "      <td>142</td>\n",
       "      <td>72</td>\n",
       "      <td>242.366840</td>\n",
       "      <td>56.150897</td>\n",
       "      <td>33.682563</td>\n",
       "      <td>162.189143</td>\n",
       "      <td>21.463532</td>\n",
       "      <td>6.518877</td>\n",
       "      <td>0</td>\n",
       "      <td>0</td>\n",
       "      <td>1.725883</td>\n",
       "      <td>0</td>\n",
       "      <td>0</td>\n",
       "      <td>0</td>\n",
       "      <td>1</td>\n",
       "      <td>0</td>\n",
       "      <td>0</td>\n",
       "      <td>XXXConfid</td>\n",
       "    </tr>\n",
       "    <tr>\n",
       "      <th>1</th>\n",
       "      <td>4752</td>\n",
       "      <td>89</td>\n",
       "      <td>0</td>\n",
       "      <td>0</td>\n",
       "      <td>0</td>\n",
       "      <td>26.827681</td>\n",
       "      <td>0</td>\n",
       "      <td>4.542524</td>\n",
       "      <td>7.619885</td>\n",
       "      <td>0.518767</td>\n",
       "      <td>7.151293</td>\n",
       "      <td>0</td>\n",
       "      <td>0</td>\n",
       "      <td>0</td>\n",
       "      <td>0</td>\n",
       "      <td>0</td>\n",
       "      <td>0</td>\n",
       "      <td>115</td>\n",
       "      <td>64</td>\n",
       "      <td>231.162595</td>\n",
       "      <td>193.407996</td>\n",
       "      <td>79.028477</td>\n",
       "      <td>294.630909</td>\n",
       "      <td>20.613267</td>\n",
       "      <td>7.118696</td>\n",
       "      <td>0</td>\n",
       "      <td>0</td>\n",
       "      <td>2.592424</td>\n",
       "      <td>0</td>\n",
       "      <td>0</td>\n",
       "      <td>0</td>\n",
       "      <td>0</td>\n",
       "      <td>1</td>\n",
       "      <td>0</td>\n",
       "      <td>XXXConfid</td>\n",
       "    </tr>\n",
       "    <tr>\n",
       "      <th>2</th>\n",
       "      <td>4753</td>\n",
       "      <td>73</td>\n",
       "      <td>0</td>\n",
       "      <td>3</td>\n",
       "      <td>1</td>\n",
       "      <td>17.795882</td>\n",
       "      <td>0</td>\n",
       "      <td>19.555085</td>\n",
       "      <td>7.844988</td>\n",
       "      <td>1.826335</td>\n",
       "      <td>9.673574</td>\n",
       "      <td>1</td>\n",
       "      <td>0</td>\n",
       "      <td>0</td>\n",
       "      <td>0</td>\n",
       "      <td>0</td>\n",
       "      <td>0</td>\n",
       "      <td>99</td>\n",
       "      <td>116</td>\n",
       "      <td>284.181858</td>\n",
       "      <td>153.322762</td>\n",
       "      <td>69.772292</td>\n",
       "      <td>83.638324</td>\n",
       "      <td>7.356249</td>\n",
       "      <td>5.895077</td>\n",
       "      <td>0</td>\n",
       "      <td>0</td>\n",
       "      <td>7.119548</td>\n",
       "      <td>0</td>\n",
       "      <td>1</td>\n",
       "      <td>0</td>\n",
       "      <td>1</td>\n",
       "      <td>0</td>\n",
       "      <td>0</td>\n",
       "      <td>XXXConfid</td>\n",
       "    </tr>\n",
       "    <tr>\n",
       "      <th>3</th>\n",
       "      <td>4754</td>\n",
       "      <td>74</td>\n",
       "      <td>1</td>\n",
       "      <td>0</td>\n",
       "      <td>1</td>\n",
       "      <td>33.800817</td>\n",
       "      <td>1</td>\n",
       "      <td>12.209266</td>\n",
       "      <td>8.428001</td>\n",
       "      <td>7.435604</td>\n",
       "      <td>8.392554</td>\n",
       "      <td>0</td>\n",
       "      <td>0</td>\n",
       "      <td>0</td>\n",
       "      <td>0</td>\n",
       "      <td>0</td>\n",
       "      <td>0</td>\n",
       "      <td>118</td>\n",
       "      <td>115</td>\n",
       "      <td>159.582240</td>\n",
       "      <td>65.366637</td>\n",
       "      <td>68.457491</td>\n",
       "      <td>277.577358</td>\n",
       "      <td>13.991127</td>\n",
       "      <td>8.965106</td>\n",
       "      <td>0</td>\n",
       "      <td>1</td>\n",
       "      <td>6.481226</td>\n",
       "      <td>0</td>\n",
       "      <td>0</td>\n",
       "      <td>0</td>\n",
       "      <td>0</td>\n",
       "      <td>0</td>\n",
       "      <td>0</td>\n",
       "      <td>XXXConfid</td>\n",
       "    </tr>\n",
       "    <tr>\n",
       "      <th>4</th>\n",
       "      <td>4755</td>\n",
       "      <td>89</td>\n",
       "      <td>0</td>\n",
       "      <td>0</td>\n",
       "      <td>0</td>\n",
       "      <td>20.716974</td>\n",
       "      <td>0</td>\n",
       "      <td>18.454356</td>\n",
       "      <td>6.310461</td>\n",
       "      <td>0.795498</td>\n",
       "      <td>5.597238</td>\n",
       "      <td>0</td>\n",
       "      <td>0</td>\n",
       "      <td>0</td>\n",
       "      <td>0</td>\n",
       "      <td>0</td>\n",
       "      <td>0</td>\n",
       "      <td>94</td>\n",
       "      <td>117</td>\n",
       "      <td>237.602184</td>\n",
       "      <td>92.869700</td>\n",
       "      <td>56.874305</td>\n",
       "      <td>291.198780</td>\n",
       "      <td>13.517609</td>\n",
       "      <td>6.045039</td>\n",
       "      <td>0</td>\n",
       "      <td>0</td>\n",
       "      <td>0.014691</td>\n",
       "      <td>0</td>\n",
       "      <td>0</td>\n",
       "      <td>1</td>\n",
       "      <td>1</td>\n",
       "      <td>0</td>\n",
       "      <td>0</td>\n",
       "      <td>XXXConfid</td>\n",
       "    </tr>\n",
       "  </tbody>\n",
       "</table>\n",
       "</div>"
      ],
      "text/plain": [
       "   PatientID  Age  Gender  Ethnicity  EducationLevel        BMI  Smoking  \\\n",
       "0       4751   73       0          0               2  22.927749        0   \n",
       "1       4752   89       0          0               0  26.827681        0   \n",
       "2       4753   73       0          3               1  17.795882        0   \n",
       "3       4754   74       1          0               1  33.800817        1   \n",
       "4       4755   89       0          0               0  20.716974        0   \n",
       "\n",
       "   AlcoholConsumption  PhysicalActivity  DietQuality  SleepQuality  \\\n",
       "0           13.297218          6.327112     1.347214      9.025679   \n",
       "1            4.542524          7.619885     0.518767      7.151293   \n",
       "2           19.555085          7.844988     1.826335      9.673574   \n",
       "3           12.209266          8.428001     7.435604      8.392554   \n",
       "4           18.454356          6.310461     0.795498      5.597238   \n",
       "\n",
       "   FamilyHistoryAlzheimers  CardiovascularDisease  Diabetes  Depression  \\\n",
       "0                        0                      0         1           1   \n",
       "1                        0                      0         0           0   \n",
       "2                        1                      0         0           0   \n",
       "3                        0                      0         0           0   \n",
       "4                        0                      0         0           0   \n",
       "\n",
       "   HeadInjury  Hypertension  SystolicBP  DiastolicBP  CholesterolTotal  \\\n",
       "0           0             0         142           72        242.366840   \n",
       "1           0             0         115           64        231.162595   \n",
       "2           0             0          99          116        284.181858   \n",
       "3           0             0         118          115        159.582240   \n",
       "4           0             0          94          117        237.602184   \n",
       "\n",
       "   CholesterolLDL  CholesterolHDL  CholesterolTriglycerides       MMSE  \\\n",
       "0       56.150897       33.682563                162.189143  21.463532   \n",
       "1      193.407996       79.028477                294.630909  20.613267   \n",
       "2      153.322762       69.772292                 83.638324   7.356249   \n",
       "3       65.366637       68.457491                277.577358  13.991127   \n",
       "4       92.869700       56.874305                291.198780  13.517609   \n",
       "\n",
       "   FunctionalAssessment  MemoryComplaints  BehavioralProblems       ADL  \\\n",
       "0              6.518877                 0                   0  1.725883   \n",
       "1              7.118696                 0                   0  2.592424   \n",
       "2              5.895077                 0                   0  7.119548   \n",
       "3              8.965106                 0                   1  6.481226   \n",
       "4              6.045039                 0                   0  0.014691   \n",
       "\n",
       "   Confusion  Disorientation  PersonalityChanges  DifficultyCompletingTasks  \\\n",
       "0          0               0                   0                          1   \n",
       "1          0               0                   0                          0   \n",
       "2          0               1                   0                          1   \n",
       "3          0               0                   0                          0   \n",
       "4          0               0                   1                          1   \n",
       "\n",
       "   Forgetfulness  Diagnosis DoctorInCharge  \n",
       "0              0          0      XXXConfid  \n",
       "1              1          0      XXXConfid  \n",
       "2              0          0      XXXConfid  \n",
       "3              0          0      XXXConfid  \n",
       "4              0          0      XXXConfid  "
      ]
     },
     "metadata": {},
     "output_type": "display_data"
    }
   ],
   "source": [
    "# Preview the first few rows to understand how values are structured\n",
    "show_head(df)"
   ]
  },
  {
   "cell_type": "markdown",
   "id": "58c87e55-631f-4cff-be1d-211181861276",
   "metadata": {},
   "source": [
    "**The first five rows show that:**\n",
    "- All values are properly formatted.\n",
    "- Column names and values are clearly labeled.\n",
    "- There's good variety in the data—no obvious errors, typos, or missing data."
   ]
  },
  {
   "cell_type": "markdown",
   "id": "098afe19-6b3c-4c15-9db6-58d2b229a338",
   "metadata": {},
   "source": [
    "----------------------------"
   ]
  },
  {
   "cell_type": "markdown",
   "id": "1f279242-c1af-40c1-aa50-efe8d3864bd5",
   "metadata": {},
   "source": [
    "## Indentify Categorical Features"
   ]
  },
  {
   "cell_type": "code",
   "execution_count": 50,
   "id": "2b04c6f0-75fe-4393-ab50-c303bde3484a",
   "metadata": {},
   "outputs": [
    {
     "name": "stdout",
     "output_type": "stream",
     "text": [
      "\n",
      "----- Categorical Summary -----\n"
     ]
    },
    {
     "data": {
      "text/html": [
       "<div>\n",
       "<style scoped>\n",
       "    .dataframe tbody tr th:only-of-type {\n",
       "        vertical-align: middle;\n",
       "    }\n",
       "\n",
       "    .dataframe tbody tr th {\n",
       "        vertical-align: top;\n",
       "    }\n",
       "\n",
       "    .dataframe thead th {\n",
       "        text-align: right;\n",
       "    }\n",
       "</style>\n",
       "<table border=\"1\" class=\"dataframe\">\n",
       "  <thead>\n",
       "    <tr style=\"text-align: right;\">\n",
       "      <th></th>\n",
       "      <th>count</th>\n",
       "      <th>unique</th>\n",
       "      <th>top</th>\n",
       "      <th>freq</th>\n",
       "    </tr>\n",
       "  </thead>\n",
       "  <tbody>\n",
       "    <tr>\n",
       "      <th>DoctorInCharge</th>\n",
       "      <td>2149</td>\n",
       "      <td>1</td>\n",
       "      <td>XXXConfid</td>\n",
       "      <td>2149</td>\n",
       "    </tr>\n",
       "  </tbody>\n",
       "</table>\n",
       "</div>"
      ],
      "text/plain": [
       "               count unique        top  freq\n",
       "DoctorInCharge  2149      1  XXXConfid  2149"
      ]
     },
     "metadata": {},
     "output_type": "display_data"
    }
   ],
   "source": [
    "# View summary of categorical columns \n",
    "print_categorical_description(df)"
   ]
  },
  {
   "cell_type": "markdown",
   "id": "2c685369-6163-46f9-a5dc-41160d5f64dc",
   "metadata": {},
   "source": [
    "This helps us understand non-numeric features (e.g., DoctorInCharge). In our case, this column holds anonymized IDs and won't be used for modeling, but it’s good practice to review these separately.\n"
   ]
  },
  {
   "cell_type": "markdown",
   "id": "d6733496-52a1-4745-abdb-59f463575c09",
   "metadata": {},
   "source": [
    "----------------------"
   ]
  },
  {
   "cell_type": "markdown",
   "id": "7bd67055-f721-447a-8cd1-4d12a54dc29d",
   "metadata": {},
   "source": [
    "## Understanding the Columns\n",
    "\n",
    "Before cleaning or analyzing the data, we need to know what each column represents. This is a key part of **data exploration** in Business Intelligence. By understanding the **data types** and what the values mean, we avoid making wrong decisions. This follows the **GIGO principle**: *Garbage In, Garbage Out*. If the input data is poor or unclear, the results will also be poor, no matter how advanced the analysis.\n"
   ]
  },
  {
   "cell_type": "markdown",
   "id": "1cb08a37-06c4-4b6f-87a9-29349404a85e",
   "metadata": {},
   "source": [
    "### Column Overview\n",
    "\n",
    "- **PatientID** – *ID* – A unique number for each patient. Not used for prediction.  \n",
    "- **Age** – *Numeric* – The patient's age in years.  \n",
    "- **Gender** – *Categorical* – 0 = Female, 1 = Male.  \n",
    "- **Ethnicity** – *Categorical* – Example: 0 = White, 1 = Black, etc.  \n",
    "- **EducationLevel** – *Ordinal* – Higher number means more education.  \n",
    "- **BMI** – *Numeric* – Body Mass Index (based on height and weight). \n",
    "- **Smoking** – *Binary* – 0 = No, 1 = Yes.  \n",
    "- **AlcoholConsumption** – *Numeric* – Amount of alcohol used.  \n",
    "- **PhysicalActivity** – *Numeric* – How active the person is.\n",
    "- **DietQuality** – *Numeric* – Higher number = healthier diet.  \n",
    "- **ADL** – *Numeric* – Level of help needed with daily tasks.  \n",
    "- **Diagnosis** – *Target label* – 0 = No Alzheimer’s, 1 = Alzheimer’s.  \n",
    "\n",
    "Other columns like **Confusion**, **MemoryComplaints**, and **PersonalityChanges** are binary symptoms: 0 = No, 1 = Yes.\n",
    "\n",
    "#### Why this is important\n",
    "If we do not understand what the data means, we can not clean it or use it properly. This step helps us avoid wrong assumptions and prepares the data for meaningful analysis."
   ]
  },
  {
   "cell_type": "markdown",
   "id": "24825433-6da9-4bf0-9832-bb550b61ba63",
   "metadata": {
    "jp-MarkdownHeadingCollapsed": true
   },
   "source": [
    "### Column Types and Unique Values\n",
    "\n",
    "In order to decide which columns to keep, transform, or remove later, we check two important things about the columns:\n",
    "\n",
    "1. **Data types** – Shows if values are stored as numbers (integers, floats) or as text.  \n",
    "   For example, age should be numeric, while gender might be text or category codes.\n",
    "\n",
    "2. **Unique values** – Tells how many different values exist in each column.  \n",
    "   This helps identify which columns are categories (like gender or smoking) and which might be IDs (like PatientID), which are not useful for prediction."
   ]
  },
  {
   "cell_type": "markdown",
   "id": "471b27e4-d69e-4955-9c6b-58363112f741",
   "metadata": {},
   "source": [
    "## Check Column Types\n",
    "Before we clean or transform any columns, we need to check the data types to understand how each variable is stored. This helps us spot which columns are numeric, which are categorical, and whether anything needs to be converted. This is an important part of data exploration. If we do not know what kind of data we are working with, we might handle it the wrong way."
   ]
  },
  {
   "cell_type": "code",
   "execution_count": 51,
   "id": "316af526-37f8-4dce-83f0-dd0371568d59",
   "metadata": {},
   "outputs": [
    {
     "data": {
      "text/plain": [
       "PatientID                      int64\n",
       "Age                            int64\n",
       "Gender                         int64\n",
       "Ethnicity                      int64\n",
       "EducationLevel                 int64\n",
       "BMI                          float64\n",
       "Smoking                        int64\n",
       "AlcoholConsumption           float64\n",
       "PhysicalActivity             float64\n",
       "DietQuality                  float64\n",
       "SleepQuality                 float64\n",
       "FamilyHistoryAlzheimers        int64\n",
       "CardiovascularDisease          int64\n",
       "Diabetes                       int64\n",
       "Depression                     int64\n",
       "HeadInjury                     int64\n",
       "Hypertension                   int64\n",
       "SystolicBP                     int64\n",
       "DiastolicBP                    int64\n",
       "CholesterolTotal             float64\n",
       "CholesterolLDL               float64\n",
       "CholesterolHDL               float64\n",
       "CholesterolTriglycerides     float64\n",
       "MMSE                         float64\n",
       "FunctionalAssessment         float64\n",
       "MemoryComplaints               int64\n",
       "BehavioralProblems             int64\n",
       "ADL                          float64\n",
       "Confusion                      int64\n",
       "Disorientation                 int64\n",
       "PersonalityChanges             int64\n",
       "DifficultyCompletingTasks      int64\n",
       "Forgetfulness                  int64\n",
       "Diagnosis                      int64\n",
       "DoctorInCharge                object\n",
       "dtype: object"
      ]
     },
     "execution_count": 51,
     "metadata": {},
     "output_type": "execute_result"
    }
   ],
   "source": [
    "# Display data types for each column to understand variable types\n",
    "df.dtypes"
   ]
  },
  {
   "cell_type": "markdown",
   "id": "a82ae6ed-0192-4731-8ec9-39114e59445b",
   "metadata": {},
   "source": [
    "### What do we see?\n",
    "\n",
    "We see that most columns in the dataset are either stored as int64 or float64, meaning they contain numerical values. This is good because numerical data can be used directly in many types of analysis and machine learning models. We also notice that one column, DoctorInCharge, is stored as an object. This usually means it contains text or categorical labels.\n",
    "\n",
    "We interpret this as a mostly numerical dataset, which is a good starting point for further processing. We also conclude that some columns, like PatientID and DoctorInCharge, probably are identifiers and not useful as features. These will likely be removed later to avoid adding irrelevant information to our model."
   ]
  },
  {
   "cell_type": "markdown",
   "id": "2ed3fde9-8b86-4ed1-b929-b9e9a9280067",
   "metadata": {},
   "source": [
    "## Unique values in columns"
   ]
  },
  {
   "cell_type": "code",
   "execution_count": 52,
   "id": "92f6f96d-b10b-4c25-86c1-835a07a4434b",
   "metadata": {},
   "outputs": [
    {
     "data": {
      "text/plain": [
       "PatientID                    2149\n",
       "CholesterolTotal             2149\n",
       "ADL                          2149\n",
       "FunctionalAssessment         2149\n",
       "MMSE                         2149\n",
       "BMI                          2149\n",
       "CholesterolTriglycerides     2149\n",
       "AlcoholConsumption           2149\n",
       "PhysicalActivity             2149\n",
       "DietQuality                  2149\n",
       "SleepQuality                 2149\n",
       "CholesterolHDL               2149\n",
       "CholesterolLDL               2149\n",
       "SystolicBP                     90\n",
       "DiastolicBP                    60\n",
       "Age                            31\n",
       "Ethnicity                       4\n",
       "EducationLevel                  4\n",
       "BehavioralProblems              2\n",
       "Diagnosis                       2\n",
       "Forgetfulness                   2\n",
       "DifficultyCompletingTasks       2\n",
       "PersonalityChanges              2\n",
       "Disorientation                  2\n",
       "Confusion                       2\n",
       "Gender                          2\n",
       "Depression                      2\n",
       "MemoryComplaints                2\n",
       "HeadInjury                      2\n",
       "Smoking                         2\n",
       "FamilyHistoryAlzheimers         2\n",
       "CardiovascularDisease           2\n",
       "Diabetes                        2\n",
       "Hypertension                    2\n",
       "DoctorInCharge                  1\n",
       "dtype: int64"
      ]
     },
     "execution_count": 52,
     "metadata": {},
     "output_type": "execute_result"
    }
   ],
   "source": [
    "# Check the number of unique values in each column\n",
    "# Helps identify categorical variables and ID-like columns\n",
    "df.nunique().sort_values(ascending=False)"
   ]
  },
  {
   "cell_type": "markdown",
   "id": "e3e38c84-490f-403a-a24f-016949f1a3f4",
   "metadata": {},
   "source": [
    "#### What We Learned from Unique Values: "
   ]
  },
  {
   "cell_type": "markdown",
   "id": "dcaab863-8f1e-49a3-adb4-4b107e88eb0e",
   "metadata": {},
   "source": [
    "Understanding the number of unique values in each column helps us decide how to handle the data later on. Since the goal of this project is to analyze and predict Alzheimer's diagnoses based on patient characteristics, we need to be clear about which features are useful for that purpose.\n",
    "\n",
    "- **PatientID** has a unique value for every row, which makes it an identifier. It’s not related to the diagnosis or any medical condition, so it would not help with predictions. We will therfore remove it during cleaning.\n",
    "\n",
    "- Some columns like **Gender, Smoking, and Diabetes** only have two unique values. These are called binary variables and are usually coded as 0 and 1, for example, 0 might mean “no” and 1 might mean “yes.” These features are important because they can show risk factors or medical conditions linked to Alzheimer’s. However, even if a column has only two values, we should always check what those values actually mean. For instance, in the Gender column, 0 might mean “Female” and 1 might mean “Male,” so it’s not a simple yes/no. We will inspect value distributions during exploratory analysis to confirm their meaning.\n",
    "\n",
    "- Columns like **Age, BMI, MMSE, and CholesterolTotal** have many unique values. These are continuous numeric variables, meaning they can show subtle differences between patients. This kind of data is very useful for modeling, but it often needs to be scaled so that features with large values don’t dominate the model.\n",
    "\n",
    "- **Diagnosis** also has two unique values: 0 and 1. This is our target variable. Everything else in the dataset helps us try to predict this outcome.\n",
    "\n",
    "We’re organizing the data this way because each type of variable requires different handling in preprocessing. Binary features might be used as-is, continuous features might need scaling, and ID columns should be removed entirely. By doing this upfront, we make sure our data is well-structured and meaningful, which is essential before we move on to any analysis or modeling."
   ]
  },
  {
   "cell_type": "markdown",
   "id": "83b1c865-ff1d-4e75-a634-f2efbe548548",
   "metadata": {},
   "source": [
    "----------------------------"
   ]
  },
  {
   "cell_type": "markdown",
   "id": "b72d9ebe-d32a-4066-8223-c90b7926a6c5",
   "metadata": {},
   "source": [
    "## Identifying Potential Predictive Features\n",
    "\n",
    "Now that we understand the structure and summary statistics of the dataset, we can start thinking about which features might be most useful for predicting Alzheimer's diagnosis. We approach this by looking at:\n",
    "\n",
    "- Clinical relevance (what the feature measures and how it connects to cognitive health).\n",
    "- Variation (features that differ a lot across patients can be more informative).\n",
    "- Domain logic (real-world medical knowledge and common sense)."
   ]
  },
  {
   "cell_type": "markdown",
   "id": "a6228aed-4f71-4a79-94af-56758d6ebfa5",
   "metadata": {},
   "source": [
    "## Which Features Might Be Strong Predictors?\n",
    "To decide which features could help predict Alzheimer’s, we consider both medical logic and data variability:\n",
    "\n",
    "- **MMSE** is likely the strongest predictor, since it directly measures cognitive ability.\n",
    "\n",
    "- **Age, FunctionalAssessment, and ADL** are also important—older patients and those with reduced function are at higher risk.\n",
    "\n",
    "- Symptoms like **MemoryComplaints, Forgetfulness, Disorientation, and PersonalityChanges** likely reflect cognitive decline and may have high predictive power.\n",
    "\n",
    "- Health conditions like **Depression, Hypertension, and Diabetes** may also contribute, especially when combined with cognitive scores.\n",
    "\n",
    "- Lifestyle factors like **PhysicalActivity, DietQuality, and SleepQuality** may have subtle influence but could become meaningful in combination with clinical features."
   ]
  },
  {
   "cell_type": "markdown",
   "id": "67ae12a7-859d-4dac-a19e-68507db5872f",
   "metadata": {},
   "source": [
    "By understanding the structure and meaning of each variable, we are better prepared to clean the data, choose features, and begin modeling. These insights also help us decide what kind of preprocessing (e.g. scaling, encoding, or dropping) is needed in the next steps."
   ]
  },
  {
   "cell_type": "markdown",
   "id": "3f2c9009-d42b-4fb0-b237-6156f4af91db",
   "metadata": {},
   "source": [
    "-------------------------------"
   ]
  },
  {
   "cell_type": "markdown",
   "id": "ab7e194c-ead9-4155-8768-5c7b7a534e7d",
   "metadata": {},
   "source": [
    "## Feature Type Distribution"
   ]
  },
  {
   "cell_type": "markdown",
   "id": "a6ebe3d0-ad17-4708-a7fd-6b01ce7096d4",
   "metadata": {},
   "source": [
    "Before we move on to cleaning or modeling, it's helpful to organize the features based on the type of data they hold. Grouping columns into categories like binary, continuous, ordinal, ID, and target makes it easier to decide how each should be handled. The bar chart below shows how many features fall into each of these groups. This gives us a quick overview of the dataset’s structure and helps guide our preprocessing decisions."
   ]
  },
  {
   "cell_type": "code",
   "execution_count": 53,
   "id": "f9fbca9a-69d7-4f8e-be16-dba897ca1503",
   "metadata": {
    "scrolled": true
   },
   "outputs": [
    {
     "name": "stdout",
     "output_type": "stream",
     "text": [
      "Feature groups defined.\n",
      "Plot saved to: ../plots\\02_feature_type_distribution.png\n",
      "Caption saved to: ../plots\\02_feature_type_distribution.txt\n"
     ]
    },
    {
     "data": {
      "image/png": "[encoded data removed]",
      "text/plain": [
       "<Figure size 800x500 with 1 Axes>"
      ]
     },
     "metadata": {},
     "output_type": "display_data"
    }
   ],
   "source": [
    "# Define feature groups\n",
    "id_columns = [\"PatientID\", \"DoctorInCharge\"]\n",
    "target_column = \"Diagnosis\"\n",
    "\n",
    "# Binary features (likely 0 = No, 1 = Yes)\n",
    "binary_features = [\n",
    "    \"Gender\", \"Smoking\", \"AlcoholConsumption\", \"FamilyHistoryAlzheimers\",\n",
    "    \"CardiovascularDisease\", \"Diabetes\", \"Depression\", \"HeadInjury\",\n",
    "    \"Hypertension\", \"MemoryComplaints\", \"BehavioralProblems\",\n",
    "    \"Confusion\", \"Disorientation\", \"PersonalityChanges\",\n",
    "    \"DifficultyCompletingTasks\", \"Forgetfulness\"\n",
    "]\n",
    "\n",
    "# Continuous numeric features\n",
    "continuous_features = [\n",
    "    \"Age\", \"BMI\", \"PhysicalActivity\", \"DietQuality\", \"SleepQuality\",\n",
    "    \"SystolicBP\", \"DiastolicBP\", \"CholesterolTotal\",\n",
    "    \"CholesterolLDL\", \"CholesterolHDL\", \"CholesterolTriglycerides\",\n",
    "    \"MMSE\", \"FunctionalAssessment\", \"ADL\"\n",
    "]\n",
    "\n",
    "# Categorical features\n",
    "ordinal_features = [\"EducationLevel\", \"Ethnicity\"]\n",
    "\n",
    "print(\"Feature groups defined.\")\n",
    "\n",
    "# Count features by type\n",
    "feature_counts = {\n",
    "    \"Binary Features\": len(binary_features),\n",
    "    \"Continuous Features\": len(continuous_features),\n",
    "    \"Ordinal Features\": len(ordinal_features),\n",
    "    \"ID Columns\": len(id_columns),\n",
    "    \"Target\": 1  \n",
    "}\n",
    "\n",
    "# Convert to DataFrame\n",
    "feature_df = pd.DataFrame.from_dict(feature_counts, orient='index', columns=[\"Count\"])\n",
    "feature_df = feature_df.sort_values(\"Count\", ascending=False)\n",
    "\n",
    "# Plot the bar chart\n",
    "plt.figure(figsize=(8, 5))\n",
    "bars = plt.bar(feature_df.index, feature_df[\"Count\"], color='skyblue')\n",
    "plt.title(\"Number of Features by Type\")\n",
    "plt.ylabel(\"Number of Columns\")\n",
    "plt.xticks(rotation=30)\n",
    "plt.grid(axis=\"y\", linestyle=\"--\", alpha=0.6)\n",
    "\n",
    "# Add labels above bars\n",
    "for bar in bars:\n",
    "    yval = bar.get_height()\n",
    "    plt.text(bar.get_x() + bar.get_width() / 2, yval + 0.3, int(yval), ha='center', va='bottom')\n",
    "\n",
    "plt.tight_layout()\n",
    "\n",
    "# Save the plot before displaying\n",
    "fig = plt.gcf()\n",
    "save_plot(\n",
    "    fig,\n",
    "    filename=\"02_feature_type_distribution.png\",\n",
    "    caption=\"Notebook 02 - Section: Feature Type Definition - Plot: Feature count by category (binary, continuous, ordinal).\",\n",
    "    folder_path=\"../plots\"\n",
    ")\n",
    "\n",
    "# Display the figure in the notebook\n",
    "from IPython.display import display\n",
    "display(fig)\n"
   ]
  },
  {
   "cell_type": "markdown",
   "id": "55847883-9137-4ada-8544-3c519544e7a0",
   "metadata": {},
   "source": [
    "## Binary Variable Meaning"
   ]
  },
  {
   "cell_type": "code",
   "execution_count": 54,
   "id": "f365e762-9d16-478b-965c-fef68307c6ac",
   "metadata": {},
   "outputs": [
    {
     "name": "stdout",
     "output_type": "stream",
     "text": [
      "Gender: [0 1]\n",
      "Smoking: [0 1]\n",
      "Diabetes: [1 0]\n",
      "Diagnosis: [0 1]\n"
     ]
    }
   ],
   "source": [
    "# Check what values are present in a few binary columns\n",
    "binary_check = [\"Gender\", \"Smoking\", \"Diabetes\", \"Diagnosis\"]\n",
    "for col in binary_check:\n",
    "    print(f\"{col}: {df[col].unique()}\")\n"
   ]
  },
  {
   "cell_type": "markdown",
   "id": "38769948-ac39-46f1-8c27-0ffe0661c035",
   "metadata": {},
   "source": [
    "We confirmed that binary columns like Gender, Smoking, and Diagnosis contain values [0, 1], which represent yes/no or class labels.  \n",
    "This confirms they are safe to treat as categorical or indicator variables in modeling.\n"
   ]
  },
  {
   "cell_type": "markdown",
   "id": "c50d5c33",
   "metadata": {},
   "source": [
    "### Visualize and Check For Outliers"
   ]
  },
  {
   "cell_type": "code",
   "execution_count": 62,
   "id": "cb2f3ca3",
   "metadata": {},
   "outputs": [
    {
     "data": {
      "image/png": "[encoded data removed]",
      "text/plain": [
       "<Figure size 1200x800 with 1 Axes>"
      ]
     },
     "metadata": {},
     "output_type": "display_data"
    }
   ],
   "source": [
    "import matplotlib.pyplot as plt\n",
    "import seaborn as sns\n",
    "\n",
    "# Set seaborn style for better visuals\n",
    "sns.set(style=\"whitegrid\")\n",
    "\n",
    "# Plot boxplots for all continuous features in one figure\n",
    "plt.figure(figsize=(12, 8))\n",
    "sns.boxplot(data=df_clean[continuous_features], orient=\"h\", palette=\"Set2\")\n",
    "plt.title(\"Boxplots for Continuous Features (Outlier Detection)\", fontsize=14)\n",
    "plt.xlabel(\"Value\")\n",
    "plt.show()"
   ]
  },
  {
   "cell_type": "code",
   "execution_count": 63,
   "id": "e24eafce",
   "metadata": {},
   "outputs": [
    {
     "data": {
      "image/png": "[encoded data removed]",
      "text/plain": [
       "<Figure size 600x400 with 1 Axes>"
      ]
     },
     "metadata": {},
     "output_type": "display_data"
    },
    {
     "data": {
      "image/png": "[encoded data removed]",
      "text/plain": [
       "<Figure size 600x400 with 1 Axes>"
      ]
     },
     "metadata": {},
     "output_type": "display_data"
    },
    {
     "data": {
      "image/png": "[encoded data removed]",
      "text/plain": [
       "<Figure size 600x400 with 1 Axes>"
      ]
     },
     "metadata": {},
     "output_type": "display_data"
    },
    {
     "data": {
      "image/png": "[encoded data removed]",
      "text/plain": [
       "<Figure size 600x400 with 1 Axes>"
      ]
     },
     "metadata": {},
     "output_type": "display_data"
    },
    {
     "data": {
      "image/png": "[encoded data removed]",
      "text/plain": [
       "<Figure size 600x400 with 1 Axes>"
      ]
     },
     "metadata": {},
     "output_type": "display_data"
    },
    {
     "data": {
      "image/png": "[encoded data removed]",
      "text/plain": [
       "<Figure size 600x400 with 1 Axes>"
      ]
     },
     "metadata": {},
     "output_type": "display_data"
    },
    {
     "data": {
      "image/png": "[encoded data removed]",
      "text/plain": [
       "<Figure size 600x400 with 1 Axes>"
      ]
     },
     "metadata": {},
     "output_type": "display_data"
    },
    {
     "data": {
      "image/png": "[encoded data removed]",
      "text/plain": [
       "<Figure size 600x400 with 1 Axes>"
      ]
     },
     "metadata": {},
     "output_type": "display_data"
    },
    {
     "data": {
      "image/png": "[encoded data removed]",
      "text/plain": [
       "<Figure size 600x400 with 1 Axes>"
      ]
     },
     "metadata": {},
     "output_type": "display_data"
    },
    {
     "data": {
      "image/png": "[encoded data removed]",
      "text/plain": [
       "<Figure size 600x400 with 1 Axes>"
      ]
     },
     "metadata": {},
     "output_type": "display_data"
    },
    {
     "data": {
      "image/png": "[encoded data removed]",
      "text/plain": [
       "<Figure size 600x400 with 1 Axes>"
      ]
     },
     "metadata": {},
     "output_type": "display_data"
    },
    {
     "data": {
      "image/png": "[encoded data removed]",
      "text/plain": [
       "<Figure size 600x400 with 1 Axes>"
      ]
     },
     "metadata": {},
     "output_type": "display_data"
    },
    {
     "data": {
      "image/png": "[encoded data removed]",
      "text/plain": [
       "<Figure size 600x400 with 1 Axes>"
      ]
     },
     "metadata": {},
     "output_type": "display_data"
    },
    {
     "data": {
      "image/png": "[encoded data removed]",
      "text/plain": [
       "<Figure size 600x400 with 1 Axes>"
      ]
     },
     "metadata": {},
     "output_type": "display_data"
    }
   ],
   "source": [
    "for col in continuous_features:\n",
    "    plt.figure(figsize=(6, 4))\n",
    "    sns.boxplot(y=df_clean[col], showfliers=True)\n",
    "    plt.title(f'Boxplot of {col} (with outliers)')\n",
    "    plt.show()"
   ]
  },
  {
   "cell_type": "markdown",
   "id": "a9a6e798",
   "metadata": {},
   "source": [
    "#### What Do We See?"
   ]
  },
  {
   "cell_type": "markdown",
   "id": "b0483d7b",
   "metadata": {},
   "source": [
    "After plotting the continuous features using boxplots, we carefully reviewed the data to check for outliers. Most features, such as Age, BMI, PhysicalActivity, DietQuality, SleepQuality, MMSE, FunctionalAssessment, and ADL, appeared very clean with no significant outliers. \n",
    "\n",
    "Their data points were well-distributed within expected ranges. On the other hand, some features like SystolicBP (systolic blood pressure), DiastolicBP (diastolic blood pressure), CholesterolTotal, CholesterolLDL, and especially CholesterolTriglycerides, showed a wider range of values. This indicates that a few patients have higher values in these features. However, even these high values seem medically reasonable and likely represent actual patient conditions rather than mistakes in the data.\n",
    "\n",
    "In medical datasets like ours, outliers are often not errors but real and important cases. For example, patients with very high blood pressure or cholesterol levels may be those at greater risk of certain diseases, and it is important for the model to learn from these cases. If we automatically remove these extreme values without understanding them, we might make our model weaker and unable to predict outcomes for these critical patients.\n",
    "\n",
    "Considering this, we chose to carefully examine the data visually using boxplots. Since we did not find any obvious data entry mistakes or unrealistic values, we decided to keep all the data points. This allows the model to learn from a full range of patient conditions, which is especially important in healthcare. In some cases, like with CholesterolTriglycerides, we may apply transformations (such as taking the logarithm of the values) later to help the model handle skewed data more effectively. Overall, by keeping these outliers, we ensure that our model can better generalize and make accurate predictions for all types of patients, not just those who fall into average or common ranges."
   ]
  },
  {
   "cell_type": "markdown",
   "id": "08b5e7c4-4027-4e99-9b57-b40ad28a07e2",
   "metadata": {},
   "source": [
    "----------------------"
   ]
  },
  {
   "cell_type": "markdown",
   "id": "08a9da60-43a2-49c8-8017-af6cfdd1bef5",
   "metadata": {},
   "source": [
    "## Check and Remove Duplicate Records\n",
    "\n",
    "Before moving forward, we check for any duplicate rows in the dataset. Duplicate records can bias the results, inflate certain patient profiles, and reduce the generalizability of models.\n"
   ]
  },
  {
   "cell_type": "code",
   "execution_count": 55,
   "id": "49065b1e-7579-43ae-8430-b89acf3ba7d0",
   "metadata": {},
   "outputs": [
    {
     "name": "stdout",
     "output_type": "stream",
     "text": [
      "Number of duplicate rows: 0\n",
      "No duplicate rows found.\n"
     ]
    }
   ],
   "source": [
    "# Check for duplicate rows\n",
    "num_duplicates = df.duplicated().sum()\n",
    "print(f\"Number of duplicate rows: {num_duplicates}\")\n",
    "\n",
    "# Remove duplicates if found\n",
    "if num_duplicates > 0:\n",
    "    df = df.drop_duplicates()\n",
    "    print(\"Duplicate rows removed.\")\n",
    "else:\n",
    "    print(\"No duplicate rows found.\")"
   ]
  },
  {
   "cell_type": "markdown",
   "id": "76df0688-429e-4381-acf7-8e8532b291bb",
   "metadata": {},
   "source": [
    "--------------------------"
   ]
  },
  {
   "cell_type": "markdown",
   "id": "48f9769c-888d-457b-98bf-cb94c1f16600",
   "metadata": {},
   "source": [
    "## Drop Non-Predictive Columns\n",
    "\n",
    "We remove columns like `PatientID` and `DoctorInCharge` because they act as identifiers. These columns do not contribute useful patterns for prediction and may even introduce noise into the model.\n"
   ]
  },
  {
   "cell_type": "code",
   "execution_count": 56,
   "id": "93b7b557-d7b8-4b13-9d1c-b400f68ec33f",
   "metadata": {},
   "outputs": [
    {
     "name": "stdout",
     "output_type": "stream",
     "text": [
      "Dropped identifier columns: ['PatientID', 'DoctorInCharge']\n"
     ]
    }
   ],
   "source": [
    "# Drop ID columns\n",
    "df_clean = df.drop(columns=id_columns)\n",
    "print(f\"Dropped identifier columns: {id_columns}\")"
   ]
  },
  {
   "cell_type": "markdown",
   "id": "e60ef1cd-d4b7-458a-b7d9-8463f1cd6c43",
   "metadata": {},
   "source": [
    "--------------------"
   ]
  },
  {
   "cell_type": "markdown",
   "id": "0c2714bf",
   "metadata": {},
   "source": [
    "## Save Cleaned Dataset\n",
    "\n",
    "Now that we’ve reviewed and validated the dataset, we save a cleaned version for reuse in future steps like EDA and modeling. This version excludes columns like PatientID and ensures the structure is ready for analysis."
   ]
  },
  {
   "cell_type": "code",
   "execution_count": 57,
   "id": "08e7abea-f219-43cb-8b9a-9383bd7e7da7",
   "metadata": {},
   "outputs": [
    {
     "name": "stdout",
     "output_type": "stream",
     "text": [
      "Cleaned dataset saved as 'alzheimers_clean.csv'\n"
     ]
    }
   ],
   "source": [
    "# Drop identifier column before saving\n",
    "df_clean = df.drop(columns=[\"PatientID\", \"DoctorInCharge\"])\n",
    "df_clean.to_csv(\"../data/alzheimers_clean.csv\", index=False)\n",
    "print(\"Cleaned dataset saved as 'alzheimers_clean.csv'\")"
   ]
  },
  {
   "cell_type": "markdown",
   "id": "0d5785c7-5637-4eed-8a0b-e5611ff432ae",
   "metadata": {},
   "source": [
    "------------------------------"
   ]
  },
  {
   "cell_type": "markdown",
   "id": "6ef457f9-eda9-462e-a965-a27ff3d2469c",
   "metadata": {},
   "source": [
    "## Outlier Detection and Removal (IQR Method)\n"
   ]
  },
  {
   "cell_type": "markdown",
   "id": "aec31794-61c3-4f6f-88f9-0ff07d159e01",
   "metadata": {},
   "source": [
    "Outliers can skew analysis and negatively impact the performance of some machine learning models. Here, we use the IQR (Interquartile Range) method to identify and remove extreme values from the continuous features."
   ]
  },
  {
   "cell_type": "code",
   "execution_count": 58,
   "id": "54261383-4224-47bc-96f3-d6408a698bec",
   "metadata": {},
   "outputs": [
    {
     "name": "stdout",
     "output_type": "stream",
     "text": [
      "Age: removed 0 outliers\n",
      "BMI: removed 0 outliers\n",
      "PhysicalActivity: removed 0 outliers\n",
      "DietQuality: removed 0 outliers\n",
      "SleepQuality: removed 0 outliers\n",
      "SystolicBP: removed 0 outliers\n",
      "DiastolicBP: removed 0 outliers\n",
      "CholesterolTotal: removed 0 outliers\n",
      "CholesterolLDL: removed 0 outliers\n",
      "CholesterolHDL: removed 0 outliers\n",
      "CholesterolTriglycerides: removed 0 outliers\n",
      "MMSE: removed 0 outliers\n",
      "FunctionalAssessment: removed 0 outliers\n",
      "ADL: removed 0 outliers\n",
      "Final shape after outlier removal: (2149, 33)\n"
     ]
    }
   ],
   "source": [
    "# Define continuous features\n",
    "continuous_features = [\n",
    "    \"Age\", \"BMI\", \"PhysicalActivity\", \"DietQuality\", \"SleepQuality\",\n",
    "    \"SystolicBP\", \"DiastolicBP\", \"CholesterolTotal\", \"CholesterolLDL\",\n",
    "    \"CholesterolHDL\", \"CholesterolTriglycerides\", \"MMSE\",\n",
    "    \"FunctionalAssessment\", \"ADL\"\n",
    "]\n",
    "\n",
    "# Create a copy for outlier processing\n",
    "df_no_outliers = df_clean.copy()\n",
    "\n",
    "# IQR-based outlier removal\n",
    "for col in continuous_features:\n",
    "    Q1 = df_no_outliers[col].quantile(0.25)\n",
    "    Q3 = df_no_outliers[col].quantile(0.75)\n",
    "    IQR = Q3 - Q1\n",
    "    lower_bound = Q1 - 1.5 * IQR\n",
    "    upper_bound = Q3 + 1.5 * IQR\n",
    "    original_count = df_no_outliers.shape[0]\n",
    "    df_no_outliers = df_no_outliers[(df_no_outliers[col] >= lower_bound) & (df_no_outliers[col] <= upper_bound)]\n",
    "    removed = original_count - df_no_outliers.shape[0]\n",
    "    print(f\"{col}: removed {removed} outliers\")\n",
    "\n",
    "print(f\"Final shape after outlier removal: {df_no_outliers.shape}\")\n"
   ]
  },
  {
   "cell_type": "markdown",
   "id": "22c170dc-cde6-432c-8f67-33a2a0bbcb2a",
   "metadata": {},
   "source": [
    "## Save Outlier-Free Dataset\n",
    "After removing outliers, we save the cleaned dataset with no outliars as a separate version. This file can be used for model training and comparison to assess the impact of outlier handling."
   ]
  },
  {
   "cell_type": "code",
   "execution_count": 59,
   "id": "054e1665-5a41-41af-ae66-58ac9112d839",
   "metadata": {},
   "outputs": [
    {
     "name": "stdout",
     "output_type": "stream",
     "text": [
      "Outlier-free dataset saved as 'alzheimers_no_outliers.csv'\n"
     ]
    }
   ],
   "source": [
    "# Save the cleaned version without outliers\n",
    "df_no_outliers.to_csv(\"../data/alzheimers_no_outliers.csv\", index=False)\n",
    "print(\"Outlier-free dataset saved as 'alzheimers_no_outliers.csv'\")"
   ]
  },
  {
   "cell_type": "markdown",
   "id": "75df4268-ea39-4962-934c-f9819830b024",
   "metadata": {},
   "source": [
    "--------------------------"
   ]
  },
  {
   "cell_type": "markdown",
   "id": "52a9f4f5-4347-4f0c-a235-b4a83b27a5f4",
   "metadata": {},
   "source": [
    "## Notebook Summary"
   ]
  },
  {
   "cell_type": "markdown",
   "id": "cb8086ee-2be0-4a09-9bda-a1d626280ca2",
   "metadata": {},
   "source": [
    "In this notebook, we loaded the raw Alzheimer’s dataset and performed several important data cleaning steps to prepare it for analysis. We began by inspecting the dataset’s structure, including data types and the number of unique values per column. We then checked for missing values both numerically and visually using a heatmap.\n",
    "\n",
    "Although the dataset turned out to be complete, we still applied standard cleaning procedures: dropping rows with too many missing values, imputing missing numeric values using the column mean, and verifying that no missing data remained. We also checked for and confirmed that there were no duplicate records. After validating that the data was clean and consistent, we saved a cleaned version of the dataset to use in the next stages of the project.\n",
    "\n",
    "Note on Feature Scaling\n",
    "Many machine learning algorithms are sensitive to the scale of input data.\n",
    "While we haven't applied any scaling in this notebook, we plan to normalize continuous features, such as Age, BMI, and MMSE, during the modeling phase using tools like StandardScaler.\n",
    "\n",
    "This step helps ensure that features with larger numeric ranges (like blood pressure or cholesterol) don’t dominate smaller-scale features during model training, allowing the algorithm to treat all features more equally."
   ]
  },
  {
   "cell_type": "code",
   "execution_count": 60,
   "id": "5a1575ee-a43f-43cd-bf4c-61e7c8a3f888",
   "metadata": {},
   "outputs": [
    {
     "name": "stdout",
     "output_type": "stream",
     "text": [
      "Summary saved to: ../reports\\02_data_loading_and_preprocessing_summary_2025-06-16_19-54-05.json\n"
     ]
    }
   ],
   "source": [
    "import sys\n",
    "sys.path.append(\"..\")  # Move up one directory\n",
    "\n",
    "from utils.save_tools import save_notebook_and_summary\n",
    "\n",
    "save_notebook_and_summary(\n",
    "    notebook_name=\"02_data_loading_and_preprocessing\",\n",
    "    summary={\n",
    "        \"description\": \"Loaded the raw Alzheimer's dataset, inspected structure, checked for missing values and duplicates, dropped sparse rows, imputed missing values using column means, confirmed data completeness, and saved the cleaned dataset.\",\n",
    "        \"records_processed\": 2149,\n",
    "        \"columns_checked\": 35,\n",
    "        \"cleaning_steps\": [\n",
    "            \"Inspected data types and unique value counts\",\n",
    "            \"Checked for missing values (numeric and heatmap)\",\n",
    "            \"Dropped rows with >2 missing values\",\n",
    "            \"Imputed numeric missing values with column means\",\n",
    "            \"Checked and removed duplicates (none found)\"\n",
    "        ],\n",
    "        \"validation\": {\n",
    "            \"missing_values_remaining\": 0,\n",
    "            \"duplicates_remaining\": 0\n",
    "        },\n",
    "        \"output_file\": \"../data/alzheimers_clean.csv\"\n",
    "    }\n",
    ")"
   ]
  },
  {
   "cell_type": "markdown",
   "id": "e4ad7abc-716e-4298-b992-5b11bdf316b7",
   "metadata": {},
   "source": [
    "#### This notebook concludes the data cleaning and transformation steps for Alzheimer’s risk prediction. The cleaned data will now be explored further in the next notebook (03_Exploratory_Data_Analysis)."
   ]
  },
  {
   "cell_type": "markdown",
   "id": "ea414ab8-7270-4e32-b01d-7a26e460110b",
   "metadata": {},
   "source": [
    "-------------------"
   ]
  },
  {
   "cell_type": "code",
   "execution_count": null,
   "id": "9aae8909-cfb3-402a-87e3-df726ae62962",
   "metadata": {},
   "outputs": [],
   "source": []
  }
 ],
 "metadata": {
  "kernelspec": {
   "display_name": "base",
   "language": "python",
   "name": "python3"
  },
  "language_info": {
   "codemirror_mode": {
    "name": "ipython",
    "version": 3
   },
   "file_extension": ".py",
   "mimetype": "text/x-python",
   "name": "python",
   "nbconvert_exporter": "python",
   "pygments_lexer": "ipython3",
   "version": "3.12.7"
  }
 },
 "nbformat": 4,
 "nbformat_minor": 5
}
