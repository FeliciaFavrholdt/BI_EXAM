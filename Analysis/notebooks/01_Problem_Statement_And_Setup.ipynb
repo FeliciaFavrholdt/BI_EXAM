{
 "cells": [
  {
   "cell_type": "markdown",
   "id": "e94bd51a-3cf1-47fd-ae96-47a67b4db05f",
   "metadata": {},
   "source": [
    "# Notebook 01 - Problem Statement And Setup"
   ]
  },
  {
   "cell_type": "markdown",
   "id": "bdd78baf-4ca2-49e2-8887-9acd2c0599ac",
   "metadata": {},
   "source": [
    "## Project Title  \n",
    "**AlzheimerPredictor4u**\n",
    "\"Early Detection of Alzheimer’s Disease Using Predictive Analytics\"\n",
    "\n",
    "## Contributors\n",
    "**Group 4, l25dat4bi1f**\n",
    "Business Intelligence 2025  \n",
    "Copenhagen Business Academy, Lyngby  \n",
    "\n",
    "### Felicia Favrholdt\n",
    "- Email: [cph-ff62@cphbusiness.dk](mailto:cph-ff62@cphbusiness.dk)  \n",
    "- GitHub: [https://github.com/FeliciaFavrholdt](https://github.com/FeliciaFavrholdt)\n",
    "\n",
    "### Fatima Majid Shamcizadh\n",
    "- Email: [cph-fs156@cphbusiness.dk](mailto:cph-fs156@cphbusiness.dk)  \n",
    "- GitHub: [https://github.com/Fati01600](https://github.com/Fati01600)\n",
    "\n",
    "## GitHub Links  \n",
    "- **Repository**: [AlzheimerPredictor4u_BI_Exam](https://github.com/FeliciaFavrholdt/AlzheimerPredictor4u_BI_Exam.git)  \n",
    "- **Streamlit Folder**: Located inside the same repository under /Streamlit_app/"
   ]
  },
  {
   "cell_type": "markdown",
   "id": "1a2b2d7f-78d6-4db5-9243-739c526d5814",
   "metadata": {},
   "source": [
    "## Raw Dataset Link \n",
    "**Alzheimers Disease Dataset:**\n",
    "https://www.kaggle.com/datasets/rabieelkharoua/alzheimers-disease-dataset/data"
   ]
  },
  {
   "cell_type": "markdown",
   "id": "e873ed9c-c4ce-4e98-94b4-97bfe94465e4",
   "metadata": {},
   "source": [
    "----------------------------------------------"
   ]
  },
  {
   "cell_type": "markdown",
   "id": "ac21ddac-d869-465a-ac2a-4bc2917b1394",
   "metadata": {},
   "source": [
    "\n",
    "## Problem Statement  \n",
    "*How can we use Business Intelligence and AI techniques to assess the risk of Alzheimer's disease based on demographic and lifestyle factors such as age, gender, health status, and daily habits, in order to support early detection and improve preventive care strategies?”*"
   ]
  },
  {
   "cell_type": "markdown",
   "id": "bcfd6b31-a8d5-48ef-8880-6b1c91d7d42d",
   "metadata": {},
   "source": [
    "## Research Questions  \n",
    "1. Can we predict the risk of Alzheimer's disease based on demographic and lifestyle factors such as age, gender, physical activity, and diet?\n",
    "2. Which health and lifestyle features are most predictive of an Alzheimer’s diagnosis?\n",
    "3. Can we build a predictive dashboard to visualize individual risk levels and support clinical decision-making?"
   ]
  },
  {
   "cell_type": "markdown",
   "id": "a243dc58-9256-43b9-b0fb-3d10f5babd3b",
   "metadata": {},
   "source": [
    "## Motivation \n",
    "\n",
    "Our motivation is to help doctors, healthcare and professionals to identify patients who are at high risk of developing Alzheimer’s disease, before the symptoms become severe. \n",
    "Alzheimer’s is a progressive condition that affects memory/thinking, and early detection can make a big difference in how the disease is managed, and patients quality of life. In this project, we want to explore how Business Intelligence (BI) and Artificial Intelligence (AI) can be used to analyze real patient data, including age, gender, health conditions, and lifestyle habits like diet and exercise. By finding patterns in the data, we hope to build a smart system that can support earlier diagnosis, so doctors can take action sooner and improve patient outcomes."
   ]
  },
  {
   "cell_type": "markdown",
   "id": "1ecba0c9-6703-4f0f-bc46-8ea9e64bcfff",
   "metadata": {},
   "source": [
    "## Project Goals\n",
    "\n",
    "The main goal of this project is to build a simple and practical system that can help doctors and healthcare-staff assess a patient’s risk of developing Alzheimer’s disease. We want to do this by using Business Intelligence (BI) and Artificial Intelligence (AI) techniques on real patient data. \n",
    "\n",
    "### Our goals include:\n",
    "\n",
    "- Creating a machine learning model that can predict the likelihood of an Alzheimer’s diagnosis.\n",
    "- Identifying which features—such as age, gender, health conditions, and lifestyle habits are most strongly linked to Alzheimer’s risk.\n",
    "- Designing an interactive dashboard that presents predictions and feature insights in a clear, user-friendly way for clinical use\n",
    "\n",
    "## Hypotheses\n",
    "\n",
    "In this project, we aim to uncover the following patterns in the dataset:\n",
    "- **H1:** Patients over the age of 75 are more likely to be diagnosed with Alzheimer’s than younger individuals\n",
    "- **H2:** Lower MMSE (Mini-Mental State Exam) scores and higher CDR (Clinical Dementia Rating) scores are strong indicators of Alzheimer’s diagnosis\n",
    "- **H3:** Patients who report higher physical activity and better diet quality show lower risk levels for Alzheimer’s disease"
   ]
  },
  {
   "cell_type": "markdown",
   "id": "d631666f-f139-43a9-a2d2-3c53d1abb157",
   "metadata": {},
   "source": [
    "## Project Scope and Impact\n",
    "\n",
    "This project explores how Business Intelligence (BI) and machine learning can help detect Alzheimer’s disease at an early stage.  \n",
    "We use a real dataset with over 2,000 patients, including details like age, gender, health conditions, and lifestyle habits.  \n",
    "By analyzing this data, we aim to build a system that helps doctors identify who may be at risk before symptoms become severe.  \n",
    "The goal is to support faster and more informed decisions in healthcare using data.\n",
    "\n",
    "### Key Objectives\n",
    "\n",
    "- Use real patient data to train a model that can predict Alzheimer’s risk.\n",
    "- Identify which features (age, diet, exercise, test scores) are most important for prediction.\n",
    "- Clean and prepare the data using BI methods to make it ready for analysis.\n",
    "- Build an interactive dashboard that presents predictions clearly for healthcare staff.\n",
    "- Document the full process in Jupyter Notebooks and publish the project on GitHub.\n",
    "\n",
    "## Expected Outcomes\n",
    "\n",
    "By the end of the project, we aim to deliver:\n",
    "- A clean, structured dataset ready for analysis.\n",
    "- A trained machine learning model for Alzheimer’s risk prediction.\n",
    "- Saved visualizations and model files for future use.\n",
    "- A simple Streamlit web app to explore predictions and insights.\n",
    "- Clear documentation of the problem, the steps taken, and what we learned.\n",
    "- A complete project repository shared on GitHub.\n",
    "\n",
    "## Impact and Beneficiaries\n",
    "\n",
    "This project supports healthcare professionals, such as doctors and nurses, in detecting Alzheimer’s earlier and planning better care.  \n",
    "It improves decision-making, saves time, and helps patients get support sooner. The dashboard could be especially useful in clinics, hospitals, or memory care units working with elderly patients or those showing early signs of cognitive decline."
   ]
  },
  {
   "cell_type": "markdown",
   "id": "342b4c3a-4fad-4d3a-819f-e7782ed43187",
   "metadata": {},
   "source": [
    "## Brief Annotation\n",
    "\n",
    "**1. Which challenge would you like to address?**  \n",
    "We want to solve the challenge of detecting Alzheimer’s disease early by analyzing patient data such as age, gender, health history, and lifestyle habits. Our goal is to use data to find patterns that show who might be at higher risk, so healthcare professionals can act sooner and provide the right care.\n",
    "    \n",
    "**2. Why is this challenge an important or interesting research goal?**  \n",
    "Alzheimer’s is a serious illness that affects memory and daily life, and it worsens over time. Early detection is key, but it’s not always easy. If we can use data to spot early warning signs, doctors can respond faster, which can help improve quality of life and slow the progression of the disease.    \n",
    "\n",
    "**3. What is the expected solution your project would provide?**  \n",
    "We plan to build a machine learning model that uses real patient data to predict a person’s risk of Alzheimer’s. The results will be shown in a simple, visual dashboard that helps doctors and nurses quickly understand the predictions and which factors matter most.\n",
    "    \n",
    "**4. What would be the positive impact of the solution, and which category of users could benefit from it?**  \n",
    "Our solution can support doctors, nurses, and caregivers by giving them better tools to detect Alzheimer’s earlier. It could be used in clinics, hospitals, or memory care units to make smarter decisions, save time, and improve care for patients who need it most."
   ]
  },
  {
   "cell_type": "markdown",
   "id": "06842af9-8162-4a46-9c63-0267000dc6e6",
   "metadata": {},
   "source": [
    "------------------------------------------"
   ]
  },
  {
   "cell_type": "markdown",
   "id": "fbcc0c55-8e4d-4696-822b-61d56c3d4416",
   "metadata": {},
   "source": [
    "## Notebooks \n",
    "The project is implemented through the 5 modular notebooks, each focused on a specific phase of the BI and AI workflow:\n",
    "\n",
    "- **01_Problem_Statement_and_Setup**\n",
    "Define the project scope, research goals, problem formulation, and setup. This includes creating the folder structure, initializing libraries, and documenting the project plan to ensure a clean and reproducible environment.\n",
    "\n",
    "- **02_Data_Loading_And_Preprocessing**\n",
    "Load the Alzheimer’s dataset, inspect for missing values, rename columns, and remove duplicates. Perform data cleaning, encode categorical variables, scale numerical values, and handle outliers. Prepare the dataset for modeling by selecting key features related to Alzheimer’s risk.\n",
    "\n",
    "- **03_Exploratory_Data_Analysis (EDA)**\n",
    "Explore the data using descriptive statistics and BI visualizations. Generate histograms, boxplots, and correlation heatmaps to understand patterns across age, gender, lifestyle habits, and diagnosis. Identify potential risk indicators.\n",
    "\n",
    "- **04_Model_Training_and_Evaluation**\n",
    "Train classification models (Logistic Regression, Decision Trees, Random Forest) to predict Alzheimer’s diagnosis risk. Evaluate model performance using accuracy, precision, recall, confusion matrices, and cross-validation.\n",
    "\n",
    "- **05_Results_and_Interpretation**\n",
    "Present the final model results and analyze which features were most important for predictions. Prepare visual outputs for the dashboard and write a summary explaining the model’s performance, strengths, and limitations in a clinical context."
   ]
  },
  {
   "cell_type": "markdown",
   "id": "0600ce61-f716-481b-af9e-50ded13168bb",
   "metadata": {},
   "source": [
    "----------------------------------"
   ]
  },
  {
   "cell_type": "markdown",
   "id": "c973c0d4-ea9b-4e69-bef6-368af195e7be",
   "metadata": {},
   "source": [
    "## Streamlit Application\n",
    "We are building a separate Streamlit web app to make our results easy to explore and understand, even for users without technical knowledge. The app will let doctors and healthcare staff interact with the predictions and visualizations in a simple and clear interface. Users will be able to upload data, view charts, and see model results that show the predicted risk of Alzheimer’s.\n",
    "\n",
    "**The dashboard** will include visual tools like bar charts, feature importance plots, and summary tables. These elements help users compare different patients, see which features matter most, and understand what drives the predictions. The app will be created using standard Python libraries and will be included in a separate /streamlit_app/ folder in our GitHub repository.\n",
    "\n",
    "In the future it could be considered to integrate a built-in chatbot using RAG (Retrieval-Augmented Generation) in order to make the application even more interactive. This chatbot could answer questions based on the project data and model results, helping users quickly understand insights and explore explanations, all in natural language. It would be designed to support doctors and nurses who need fast, clear answers without diving into the technical details. This is not something we will implement in the application in this project scope."
   ]
  },
  {
   "cell_type": "markdown",
   "id": "d5318a10-7226-4761-bbb4-9cb7bba96ea9",
   "metadata": {},
   "source": [
    "-----------------------------"
   ]
  },
  {
   "cell_type": "markdown",
   "id": "8d3c7f74-e19e-46a0-9c47-08ed79453e4c",
   "metadata": {},
   "source": [
    "## Execution Plan: BI Sprints\n",
    "\n",
    "**Sprint 1: Problem Formulation**  \n",
    "Notebook: 01_Problem_Statement_And_Setup.ipynb\n",
    "Focus: Define the business case, problem formulation, research questions, and hypotheses. Set up the project environment, folder structure, and GitHub workflow. Document all planning steps to ensure a reproducible project foundation.\n",
    "\n",
    "**Sprint 2: Data Collection & Preprocessing**  \n",
    "Notebooks: 02_Data_Loading_And_Preprocessing.ipynb, 03_Exploratory_Data_Analysis.ipynb \n",
    "Focus: Load the Alzheimer’s dataset, inspect and clean the data, handle missing values and outliers, and prepare it for analysis. Apply data transformation, scaling, and encoding to shape the dataset for modeling.   \n",
    "                                                                                                                                                                                                       \n",
    "**Sprint 3: Machine Learning & Evaluation**  \n",
    "Notebook: 04_Model_Training_and_Evaluation.ipynb\n",
    "Focus: Use descriptive statistics and visualizations to explore key patterns and relationships in the data. Then train classification models to predict Alzheimer’s risk, evaluate them using performance metrics, and select the best model.\n",
    "\n",
    "**Sprint 4: Business Application**  \n",
    "Notebook: 05_Results_and_Interpretation.ipynb\n",
    "Streamlit App: streamlit_app/app.py\n",
    "Focus: Build a user-friendly Streamlit dashboard that presents predictions, feature importance, and key visuals. "
   ]
  },
  {
   "cell_type": "markdown",
   "id": "f04b4cef-6eb2-4591-abfb-bd3ee65bc789",
   "metadata": {},
   "source": [
    "---------------------------------------"
   ]
  },
  {
   "cell_type": "markdown",
   "id": "3c169fb2-0a41-42b7-9717-446d2672c471",
   "metadata": {},
   "source": [
    "## Team Member Engagement \n",
    "\n",
    "| Member    | Responsibility                                       | Sprint Phase                   | Deadline          |\n",
    "|-----------|------------------------------------------------------|--------------------------------|-------------------|\n",
    "| Fatima & Felicia | Problem formulation, goals, and setup                | Sprint 1: Problem Formulation  | Wednesday 4/6-25  |\n",
    "| Fatima & Felicia   | Data loading, cleaning, and transformation           | Sprint 2: Data Preparation     | Sunday 8/6-25     |\n",
    "| Fatima & Felicia   | Model training, tuning, and evaluation               | Sprint 3: Machine Learning     | Thursday 12/6-25  |\n",
    "| Fatima & Felicia    | Dashboard development via streamlit app       | Sprint 4: Business Application | Monday 15/6-25    |\n",
    "| Fatima & Felicia  | Cleanup – refactoring, typos, comments etc.          | Sprint 5: Prepare Handin       | Monday 16/6-25    |\n",
    "| Fatima & Felicia  | Final checks and delivery                            | Project Deadline               | Tuesday 17/6-25   |\n",
    "\n",
    "Both team members have actively participated in reviewing, testing, and refining the work before each deliverable was uploaded to GitHub or submitted for evaluation."
   ]
  },
  {
   "cell_type": "markdown",
   "id": "877aa308",
   "metadata": {},
   "source": [
    "## Project Directory Structure\n",
    "\n",
    "Below is an overview of the folder structure used in our project, showing how we separate raw data, models, notebooks, and visual output to keep the project clean and modular:\n",
    "\n",
    "```\n",
    "/AlzheimerPredictor4u_BI_Exam/\n",
    "│\n",
    "├── data/                          # Raw and cleaned datasets (CSV files)\n",
    "│   ├── alzheimers_disease_raw_data.csv\n",
    "│   └── alzheimers_clean.csv\n",
    "│\n",
    "├── models/                        # Saved machine learning models (.pkl, .joblib)\n",
    "│\n",
    "├── plots/                         # Generated figures, histograms, and visualizations\n",
    "│\n",
    "├── reports/                       # JSON summaries for notebooks and results\n",
    "│   ├── 01_problem_statement_and_setup_summary_<timestamp>.json\n",
    "│   └── 02_data_loading_and_preprocessing_summary_<timestamp>.json\n",
    "│\n",
    "├── notebooks/                     # Jupyter notebooks for each sprint\n",
    "│   ├── 01_Problem_Statement_And_Setup.ipynb\n",
    "│   ├── 02_Data_Loading_And_Preprocessing.ipynb\n",
    "│   ├── 03_Exploratory_Data_Analysis.ipynb\n",
    "│   ├── 04_Model_Training_and_Evaluation.ipynb\n",
    "│   └── 05_Results_and_Interpretation.ipynb\n",
    "│\n",
    "├── utils/                         # Custom utility modules\n",
    "│   ├── __init__.py\n",
    "│   ├── setup_notebook.py                   # Environment setup and data inspection tools\n",
    "│   └── save_tools.py              # Plot and summary saving tools\n",
    "│\n",
    "├── Streamlit_app/                 # Streamlit web app for model deployment\n",
    "│   └── app.py\n",
    "│\n",
    "├── requirements.txt               # Python package dependencies\n",
    "├── README.md                      # Project overview and instructions\n",
    "├── .gitignore                     # Files/folders excluded from Git\n",
    "├── BI_Exam_Questions.pdf          # Reference exam question list\n",
    "└── Exam-Project.pdf               # Official project description\n",
    "\n",
    "```"
   ]
  },
  {
   "cell_type": "markdown",
   "id": "28f38387-3f22-4189-991c-a3b43b595e83",
   "metadata": {},
   "source": [
    "----------------------------------------"
   ]
  },
  {
   "cell_type": "markdown",
   "id": "cd4da6d5-4af7-470d-9889-f81155dfbb69",
   "metadata": {},
   "source": [
    "## Environment Setup\n",
    "\n",
    "The project runs in a standard Python environment, suitable for data analysis, machine learning, and web-based dashboards.  \n",
    "To keep results consistent across systems, all file paths are relative, and setup is handled through utility scripts.\n",
    "\n",
    "### Libraries Used\n",
    "\n",
    "The following Python libraries support each part of the workflow:\n",
    "- **pandas** – Data handling and manipulation with DataFrames.\n",
    "- **numpy** – Efficient numeric computations.\n",
    "- **matplotlib** and **seaborn** – Visualization and styling of data.\n",
    "- **scikit-learn** – Preprocessing, model training, and evaluation.\n",
    "- **joblib** – Saving and loading trained machine learning models.\n",
    "- **streamlit** – Creating the interactive web dashboard.\n"
   ]
  },
  {
   "cell_type": "markdown",
   "id": "0a78f49b-79d8-46c7-b4e2-e67b070a2276",
   "metadata": {},
   "source": [
    "### Development Tools\n",
    "\n",
    "- **IDE**: Visual Studio Code with Jupyter extension.\n",
    "- **Environment Management**: Anaconda or pip via requirements.txt.\n",
    "- **Version Control**: Git with GitHub repository integration.\n",
    "- **Deployment Tools**: Jupyter Notebooks for analysis and Streamlit for delivery."
   ]
  },
  {
   "cell_type": "markdown",
   "id": "6ae2ba8e-c5cc-460f-9911-6eb731c5efb4",
   "metadata": {},
   "source": [
    "### Platform Requirements\n",
    "To run the project and notebooks successfully, ensure the following software versions are installed:\n",
    "\n",
    "- **Python** 3.9 or higher  \n",
    "- **Jupyter Notebook** (or Visual Studio Code with Jupyter extension)  \n",
    "- **Streamlit** version 1.20 or later  \n",
    "\n",
    "All notebooks are executed from within the /notebooks/ directory. Output files such as datasets, visualizations, and model summaries are saved to corresponding subdirectories located one level up for consistency across the project."
   ]
  },
  {
   "cell_type": "markdown",
   "id": "922d0dcd-4088-4fd9-992d-5a1909ec1b7c",
   "metadata": {},
   "source": [
    "### Dependency Management\n",
    "\n",
    "To ensure consistency, all required libraries are listed in a `requirements.txt` file located in the project root.  \n",
    "This allows anyone or reviewer to recreate the same environment using a single command. \n",
    "The file includes all dependencies needed for notebooks, machine learning, visualizations, and the Streamlit app.\n"
   ]
  },
  {
   "cell_type": "markdown",
   "id": "b6000edd-d9bb-4f89-8453-56832fe07b92",
   "metadata": {},
   "source": [
    "**How to Install**"
   ]
  },
  {
   "cell_type": "markdown",
   "id": "8d2111b7",
   "metadata": {},
   "source": [
    "> Note: Ignore any errors or warnings — this is a demonstration of the process, not a finished product."
   ]
  },
  {
   "cell_type": "code",
   "execution_count": 4,
   "id": "3e938e2b-fdf9-47fe-a021-45be6a5f27de",
   "metadata": {},
   "outputs": [
    {
     "ename": "SyntaxError",
     "evalue": "invalid syntax (1390303618.py, line 2)",
     "output_type": "error",
     "traceback": [
      "\u001b[1;36m  Cell \u001b[1;32mIn[4], line 2\u001b[1;36m\u001b[0m\n\u001b[1;33m    pip install -r requirements.txt\u001b[0m\n\u001b[1;37m        ^\u001b[0m\n\u001b[1;31mSyntaxError\u001b[0m\u001b[1;31m:\u001b[0m invalid syntax\n"
     ]
    }
   ],
   "source": [
    "# bash - inside a terminal window place:\n",
    "pip install -r requirements.txt"
   ]
  },
  {
   "cell_type": "code",
   "execution_count": 5,
   "id": "407d61ea-c8a4-4f38-be64-dcfc80c68b54",
   "metadata": {},
   "outputs": [
    {
     "name": "stdout",
     "output_type": "stream",
     "text": [
      "Requirement already satisfied: pandas in c:\\users\\user\\anaconda3\\lib\\site-packages (from -r ../../requirements.txt (line 1)) (2.2.2)\n",
      "Requirement already satisfied: numpy in c:\\users\\user\\anaconda3\\lib\\site-packages (from -r ../../requirements.txt (line 2)) (1.26.4)\n",
      "Requirement already satisfied: matplotlib in c:\\users\\user\\anaconda3\\lib\\site-packages (from -r ../../requirements.txt (line 3)) (3.9.2)\n",
      "Requirement already satisfied: seaborn in c:\\users\\user\\anaconda3\\lib\\site-packages (from -r ../../requirements.txt (line 4)) (0.13.2)\n",
      "Requirement already satisfied: scikit-learn in c:\\users\\user\\anaconda3\\lib\\site-packages (from -r ../../requirements.txt (line 5)) (1.5.1)\n",
      "Requirement already satisfied: streamlit in c:\\users\\user\\anaconda3\\lib\\site-packages (from -r ../../requirements.txt (line 6)) (1.45.1)\n",
      "Requirement already satisfied: joblib in c:\\users\\user\\anaconda3\\lib\\site-packages (from -r ../../requirements.txt (line 7)) (1.4.2)\n",
      "Requirement already satisfied: plotly in c:\\users\\user\\anaconda3\\lib\\site-packages (from -r ../../requirements.txt (line 8)) (5.24.1)\n",
      "Requirement already satisfied: python-dateutil>=2.8.2 in c:\\users\\user\\anaconda3\\lib\\site-packages (from pandas->-r ../../requirements.txt (line 1)) (2.9.0.post0)\n",
      "Requirement already satisfied: pytz>=2020.1 in c:\\users\\user\\anaconda3\\lib\\site-packages (from pandas->-r ../../requirements.txt (line 1)) (2024.1)\n",
      "Requirement already satisfied: tzdata>=2022.7 in c:\\users\\user\\anaconda3\\lib\\site-packages (from pandas->-r ../../requirements.txt (line 1)) (2023.3)\n",
      "Requirement already satisfied: contourpy>=1.0.1 in c:\\users\\user\\anaconda3\\lib\\site-packages (from matplotlib->-r ../../requirements.txt (line 3)) (1.2.0)\n",
      "Requirement already satisfied: cycler>=0.10 in c:\\users\\user\\anaconda3\\lib\\site-packages (from matplotlib->-r ../../requirements.txt (line 3)) (0.11.0)\n",
      "Requirement already satisfied: fonttools>=4.22.0 in c:\\users\\user\\anaconda3\\lib\\site-packages (from matplotlib->-r ../../requirements.txt (line 3)) (4.51.0)\n",
      "Requirement already satisfied: kiwisolver>=1.3.1 in c:\\users\\user\\anaconda3\\lib\\site-packages (from matplotlib->-r ../../requirements.txt (line 3)) (1.4.4)\n",
      "Requirement already satisfied: packaging>=20.0 in c:\\users\\user\\anaconda3\\lib\\site-packages (from matplotlib->-r ../../requirements.txt (line 3)) (24.1)\n",
      "Requirement already satisfied: pillow>=8 in c:\\users\\user\\anaconda3\\lib\\site-packages (from matplotlib->-r ../../requirements.txt (line 3)) (10.4.0)\n",
      "Requirement already satisfied: pyparsing>=2.3.1 in c:\\users\\user\\anaconda3\\lib\\site-packages (from matplotlib->-r ../../requirements.txt (line 3)) (3.1.2)\n",
      "Requirement already satisfied: scipy>=1.6.0 in c:\\users\\user\\anaconda3\\lib\\site-packages (from scikit-learn->-r ../../requirements.txt (line 5)) (1.13.1)\n",
      "Requirement already satisfied: threadpoolctl>=3.1.0 in c:\\users\\user\\anaconda3\\lib\\site-packages (from scikit-learn->-r ../../requirements.txt (line 5)) (3.5.0)\n",
      "Requirement already satisfied: altair<6,>=4.0 in c:\\users\\user\\anaconda3\\lib\\site-packages (from streamlit->-r ../../requirements.txt (line 6)) (5.0.1)\n",
      "Requirement already satisfied: blinker<2,>=1.5.0 in c:\\users\\user\\anaconda3\\lib\\site-packages (from streamlit->-r ../../requirements.txt (line 6)) (1.6.2)\n",
      "Requirement already satisfied: cachetools<6,>=4.0 in c:\\users\\user\\anaconda3\\lib\\site-packages (from streamlit->-r ../../requirements.txt (line 6)) (5.3.3)\n",
      "Requirement already satisfied: click<9,>=7.0 in c:\\users\\user\\anaconda3\\lib\\site-packages (from streamlit->-r ../../requirements.txt (line 6)) (8.1.7)\n",
      "Requirement already satisfied: protobuf<7,>=3.20 in c:\\users\\user\\anaconda3\\lib\\site-packages (from streamlit->-r ../../requirements.txt (line 6)) (4.25.3)\n",
      "Requirement already satisfied: pyarrow>=7.0 in c:\\users\\user\\anaconda3\\lib\\site-packages (from streamlit->-r ../../requirements.txt (line 6)) (16.1.0)\n",
      "Requirement already satisfied: requests<3,>=2.27 in c:\\users\\user\\anaconda3\\lib\\site-packages (from streamlit->-r ../../requirements.txt (line 6)) (2.32.3)\n",
      "Requirement already satisfied: tenacity<10,>=8.1.0 in c:\\users\\user\\anaconda3\\lib\\site-packages (from streamlit->-r ../../requirements.txt (line 6)) (8.2.3)\n",
      "Requirement already satisfied: toml<2,>=0.10.1 in c:\\users\\user\\anaconda3\\lib\\site-packages (from streamlit->-r ../../requirements.txt (line 6)) (0.10.2)\n",
      "Requirement already satisfied: typing-extensions<5,>=4.4.0 in c:\\users\\user\\anaconda3\\lib\\site-packages (from streamlit->-r ../../requirements.txt (line 6)) (4.13.2)\n",
      "Requirement already satisfied: watchdog<7,>=2.1.5 in c:\\users\\user\\anaconda3\\lib\\site-packages (from streamlit->-r ../../requirements.txt (line 6)) (4.0.1)\n",
      "Requirement already satisfied: gitpython!=3.1.19,<4,>=3.0.7 in c:\\users\\user\\anaconda3\\lib\\site-packages (from streamlit->-r ../../requirements.txt (line 6)) (3.1.43)\n",
      "Requirement already satisfied: pydeck<1,>=0.8.0b4 in c:\\users\\user\\anaconda3\\lib\\site-packages (from streamlit->-r ../../requirements.txt (line 6)) (0.8.0)\n",
      "Requirement already satisfied: tornado<7,>=6.0.3 in c:\\users\\user\\anaconda3\\lib\\site-packages (from streamlit->-r ../../requirements.txt (line 6)) (6.4.1)\n",
      "Requirement already satisfied: jinja2 in c:\\users\\user\\anaconda3\\lib\\site-packages (from altair<6,>=4.0->streamlit->-r ../../requirements.txt (line 6)) (3.1.4)\n",
      "Requirement already satisfied: jsonschema>=3.0 in c:\\users\\user\\anaconda3\\lib\\site-packages (from altair<6,>=4.0->streamlit->-r ../../requirements.txt (line 6)) (4.23.0)\n",
      "Requirement already satisfied: toolz in c:\\users\\user\\anaconda3\\lib\\site-packages (from altair<6,>=4.0->streamlit->-r ../../requirements.txt (line 6)) (0.12.0)\n",
      "Requirement already satisfied: colorama in c:\\users\\user\\anaconda3\\lib\\site-packages (from click<9,>=7.0->streamlit->-r ../../requirements.txt (line 6)) (0.4.6)\n",
      "Requirement already satisfied: gitdb<5,>=4.0.1 in c:\\users\\user\\anaconda3\\lib\\site-packages (from gitpython!=3.1.19,<4,>=3.0.7->streamlit->-r ../../requirements.txt (line 6)) (4.0.7)\n",
      "Requirement already satisfied: six>=1.5 in c:\\users\\user\\anaconda3\\lib\\site-packages (from python-dateutil>=2.8.2->pandas->-r ../../requirements.txt (line 1)) (1.16.0)\n",
      "Requirement already satisfied: charset-normalizer<4,>=2 in c:\\users\\user\\anaconda3\\lib\\site-packages (from requests<3,>=2.27->streamlit->-r ../../requirements.txt (line 6)) (3.3.2)\n",
      "Requirement already satisfied: idna<4,>=2.5 in c:\\users\\user\\anaconda3\\lib\\site-packages (from requests<3,>=2.27->streamlit->-r ../../requirements.txt (line 6)) (3.7)\n",
      "Requirement already satisfied: urllib3<3,>=1.21.1 in c:\\users\\user\\anaconda3\\lib\\site-packages (from requests<3,>=2.27->streamlit->-r ../../requirements.txt (line 6)) (2.2.3)\n",
      "Requirement already satisfied: certifi>=2017.4.17 in c:\\users\\user\\anaconda3\\lib\\site-packages (from requests<3,>=2.27->streamlit->-r ../../requirements.txt (line 6)) (2025.4.26)\n",
      "Requirement already satisfied: smmap<5,>=3.0.1 in c:\\users\\user\\anaconda3\\lib\\site-packages (from gitdb<5,>=4.0.1->gitpython!=3.1.19,<4,>=3.0.7->streamlit->-r ../../requirements.txt (line 6)) (4.0.0)\n",
      "Requirement already satisfied: MarkupSafe>=2.0 in c:\\users\\user\\anaconda3\\lib\\site-packages (from jinja2->altair<6,>=4.0->streamlit->-r ../../requirements.txt (line 6)) (2.1.3)\n",
      "Requirement already satisfied: attrs>=22.2.0 in c:\\users\\user\\anaconda3\\lib\\site-packages (from jsonschema>=3.0->altair<6,>=4.0->streamlit->-r ../../requirements.txt (line 6)) (23.1.0)\n",
      "Requirement already satisfied: jsonschema-specifications>=2023.03.6 in c:\\users\\user\\anaconda3\\lib\\site-packages (from jsonschema>=3.0->altair<6,>=4.0->streamlit->-r ../../requirements.txt (line 6)) (2023.7.1)\n",
      "Requirement already satisfied: referencing>=0.28.4 in c:\\users\\user\\anaconda3\\lib\\site-packages (from jsonschema>=3.0->altair<6,>=4.0->streamlit->-r ../../requirements.txt (line 6)) (0.30.2)\n",
      "Requirement already satisfied: rpds-py>=0.7.1 in c:\\users\\user\\anaconda3\\lib\\site-packages (from jsonschema>=3.0->altair<6,>=4.0->streamlit->-r ../../requirements.txt (line 6)) (0.10.6)\n"
     ]
    }
   ],
   "source": [
    "# python - inside jupytor\n",
    "!pip install -r ../../requirements.txt"
   ]
  },
  {
   "cell_type": "markdown",
   "id": "09f8832d-be7e-42a4-babb-316f539d91fe",
   "metadata": {},
   "source": [
    "-------------------------------------"
   ]
  },
  {
   "cell_type": "markdown",
   "id": "67d6e24b-ce67-404a-b35e-c7212c3800bc",
   "metadata": {},
   "source": [
    "## Project Initialization\n",
    "\n",
    "To ensure this notebook has access to all necessary paths and tools, we import a helper function init_environment() from utils/setup_notebook.py.  \n",
    "\n",
    "This function adds project folders (data, reports, plots) to the Python path and sets default styles for visualizations.  "
   ]
  },
  {
   "cell_type": "markdown",
   "id": "43cfacda",
   "metadata": {},
   "source": [
    "### The following cell demonstrates how the function is used:"
   ]
  },
  {
   "cell_type": "code",
   "execution_count": 6,
   "id": "81ad1772-e1e8-4cc6-8d20-4e6803a35e09",
   "metadata": {},
   "outputs": [
    {
     "name": "stdout",
     "output_type": "stream",
     "text": [
      "Environment setup complete.\n"
     ]
    }
   ],
   "source": [
    "import sys\n",
    "import os\n",
    "\n",
    "# Add parent directory of utils to path\n",
    "sys.path.append(os.path.abspath(\"..\"))\n",
    "\n",
    "from utils.setup_notebook import init_environment\n",
    "init_environment()"
   ]
  },
  {
   "cell_type": "markdown",
   "id": "98916928-02b4-47fc-aaf5-9cdf26578c13",
   "metadata": {},
   "source": [
    "#### What does the init_environment() function do?\n",
    "\n",
    "1) It applies a consistent visual style using Seaborn and Matplotlib.\n",
    "2) Verifies that key directories exist (../data, ../models, ../plots, ../reports).\n",
    "3) Ensures that all notebooks start from a clean and ready-to-use environment."
   ]
  },
  {
   "cell_type": "markdown",
   "id": "8c0ae1ea-7a6e-4130-87b8-5989e8d56f90",
   "metadata": {},
   "source": [
    "----------------------------------"
   ]
  },
  {
   "cell_type": "markdown",
   "id": "35ee9bf5-507d-4035-a5c8-e34be45a29fc",
   "metadata": {},
   "source": [
    "## Saving Project Summaries and Visual Outputs\n",
    "\n",
    "To keep track of progress and ensure reproducibility, we use custom utility functions from the utils/save_tools.py script.\n",
    "The function save_notebook_and_summary() generates structured JSON logs for each notebook.\n",
    "\n",
    "**These summaries capture important metadata such as:**\n",
    "- Contributors involved.\n",
    "- Purpose of the notebook.\n",
    "- Tools and libraries used.\n",
    "- Created folders and notebook names.\n",
    "- Sprint milestones covered.\n",
    "\n",
    "Together, these functions help us maintain a well-documented and organized workflow. This is useful for collaboration, exam review, and public sharing on GitHub or through Streamlit.ollaboration, exam evaluation, and public sharing via GitHub or Streamlit.\n"
   ]
  },
  {
   "cell_type": "markdown",
   "id": "bb98ead2",
   "metadata": {},
   "source": [
    "### The following cell demonstrates how the function is used:"
   ]
  },
  {
   "cell_type": "code",
   "execution_count": 3,
   "id": "12b7d813-17e4-4e86-a3a2-c8c226b72eb2",
   "metadata": {},
   "outputs": [
    {
     "name": "stdout",
     "output_type": "stream",
     "text": [
      "Summary saved to: ../reports\\01_problem_statement_and_setup_summary_2025-06-15_17-53-24.json\n"
     ]
    }
   ],
   "source": [
    "from utils.save_tools import save_notebook_and_summary\n",
    "\n",
    "save_notebook_and_summary(\n",
    "    notebook_name=\"01_problem_statement_and_setup\",\n",
    "    summary={\n",
    "        \"description\": \"Defined project scope, goals, research questions, folder structure, and reusable tools for saving figures and notebook summaries.\",\n",
    "        \"team_members\": [\n",
    "            \"Felicia Favrholdt\",\n",
    "            \"Fatima Majid Shamcizadh\"\n",
    "        ],\n",
    "        \"sprints_defined\": 4,\n",
    "        \"notebooks_planned\": [\n",
    "            \"01_Problem_Statement_And_Setup\",\n",
    "            \"02_Data_Loading_And_Preprocessing\",\n",
    "            \"03_Exploratory_Data_Analysis\",\n",
    "            \"04_Model_Training_and_Evaluation_all_features\",\n",
    "            \"05_Model_Training_and_Evaluation_chosen_featues\",\n",
    "            \"06_Results_and_Interpretation\"\n",
    "        ],\n",
    "        \"folders_created\": [\n",
    "            \"data\", \"models\", \"plots\", \"reports\"\n",
    "        ],\n",
    "        \"tools_used\": [\n",
    "            \"Python 3.9\",\n",
    "            \"Jupyter Notebook\",\n",
    "            \"Visual Studio Code\",\n",
    "            \"GitHub\",\n",
    "            \"Streamlit\",\n",
    "            \"seaborn\",\n",
    "            \"scikit-learn\"\n",
    "        ]\n",
    "    }\n",
    ")"
   ]
  },
  {
   "cell_type": "markdown",
   "id": "ee7fdcb6-62c1-4426-b739-c37a5c59cf0d",
   "metadata": {},
   "source": [
    "-------------------------"
   ]
  },
  {
   "cell_type": "markdown",
   "id": "7ed42bbb-9487-4773-8ff3-99241f998cda",
   "metadata": {},
   "source": [
    "## How we save histograms, boxplots, and other figures\n",
    "\n",
    "To ensure consistency, organization, and easy reuse of our visualizations, we created a custom helper function called save_plot() in utils/save_tools.py. This function automatically saves each figure (histograms, boxplots, correlation heatmaps) to the plots/ folder. It also creates a \".txt file\" containing a human-readable caption, which we use directly in our Streamlit dashboard.\n",
    "\n",
    "This process helps us:\n",
    "- Maintain organized, timestamped visuals across notebooks and sprints.\n",
    "- Easily load images and captions in Streamlit using st.image().\n",
    "- Preserve clean notebook outputs (we use plt.close() after saving).\n"
   ]
  },
  {
   "cell_type": "markdown",
   "id": "85053f5a-1e1f-4fc6-af7c-f6810e506662",
   "metadata": {},
   "source": [
    "-----------------------"
   ]
  },
  {
   "cell_type": "markdown",
   "id": "bf421260",
   "metadata": {},
   "source": [
    "> **Note: Changes in the code: Important!**\n",
    "### How we avoided duplicate plot displays in Jupyter Notebooks\n",
    "\n",
    "While working on our project, we relized that some plots were showing up twice in the notebook. We figured out, that this happens because we used: \n",
    "- plt.figure(...) along with plt.show(), and later called fig = plt.gcf() followed by display(fig). To handle this issue we watched a 17 min video from Serrano.Academy, who explains the issues that is often seen in jupter notebook. \n",
    "\n",
    "The reason is:\n",
    "- Jupyter automatically displays plots created with matplotlib.pyplot,  \n",
    "- and display(fig) shows the same plot again, resulting in duplication. Which in the bigger picture is okay, but we do not want to complicate it later on, when we built our streamlit. \n",
    "\n",
    "Object oriented apprach: \n",
    "To fix this, we switched to the following method:\n",
    "fig, ax = plt.subplots(figsize=(.., ...))\n",
    "\n",
    "The plotting happened by using the ax object:\n",
    "fig.tight_layout()\n",
    "save_plot(fig, filename=..., caption=..., folder_path=...)\n",
    "\n",
    "This gives the person reading our code a better understanding, on what is going on: "
   ]
  },
  {
   "cell_type": "markdown",
   "id": "fbf98ada-1974-4cfd-a8b2-839796325eb7",
   "metadata": {},
   "source": [
    "## Dataset Information\n",
    "\n",
    "**Source:**  \n",
    "\n",
    "Alzheimer’s Disease Dataset by Rabie El Kharoua  \n",
    "Kaggle URL: https://www.kaggle.com/datasets/rabieelkharoua/alzheimers-disease-dataset/data  \n",
    "DOI: 10.34740/KAGGLE/DSV/8668279\n",
    "\n",
    "This dataset includes information from over 2,000 patients and is designed to support research into early detection of Alzheimer’s disease. It contains a wide range of features grouped into categories:\n",
    "\n",
    "#### Patient Demographics\n",
    "- **PatientID:** Unique identifier for each individual\n",
    "- **Age:** Between 60 and 90 years\n",
    "- **Gender:** 0 = Male, 1 = Female\n",
    "- **Ethnicity:** 0 = Caucasian, 1 = African American, 2 = Asian, 3 = Other\n",
    "- **EducationLevel:** 0 = None, 1 = High School, 2 = Bachelor's, 3 = Higher\n",
    "\n",
    "#### Lifestyle and Habits\n",
    "- **BMI:** Body Mass Index (15 to 40)\n",
    "- **Smoking:** 0 = No, 1 = Yes\n",
    "- **AlcoholConsumption:** Weekly units (0 to 20)\n",
    "- **PhysicalActivity:** Weekly hours (0 to 10)\n",
    "- **DietQuality:** Score (0 to 10)\n",
    "- **SleepQuality:** Score (4 to 10)\n",
    "\n",
    "#### Medical History\n",
    "- **FamilyHistoryAlzheimers, CardiovascularDisease, Diabetes, Depression, HeadInjury, Hypertension:** Each coded as 0 = No, 1 = Yes\n",
    "\n",
    "#### Clinical Measurements\n",
    "- **SystolicBP, DiastolicBP:** Blood pressure (mmHg)\n",
    "- **CholesterolTotal, LDL, HDL, Triglycerides:** Cholesterol measures (mg/dL)\n",
    "\n",
    "#### Cognitive and Functional Assessments\n",
    "- **MMSE:** Mini-Mental State Exam score (0 to 30), lower values suggest cognitive decline\n",
    "- **CDR, FunctionalAssessment, ADL:** Functional and cognitive functioning scores\n",
    "- **MemoryComplaints, BehavioralProblems:** 0 = No, 1 = Yes\n",
    "\n",
    "#### Symptoms\n",
    "- **Confusion, Disorientation, PersonalityChanges, DifficultyCompletingTasks, Forgetfulness:** All binary indicators (0 = No, 1 = Yes)\n",
    "\n",
    "#### Diagnosis\n",
    "- **Diagnosis:** 0 = No Alzheimer's, 1 = Alzheimer’s diagnosis (Target variable)\n",
    "\n",
    "**Note:**  \n",
    "A column named `DoctorInCharge` is included but contains anonymized values (\"XXXConfid\") and is not used in analysis.\n",
    "\n",
    "#### Why This Dataset?\n",
    "This dataset is well-suited for developing machine learning models that assess Alzheimer’s risk. It allows us to explore how demographic, medical, and lifestyle factors interact and how they relate to cognitive conditions.\n",
    "\n",
    "**Citation:**  \n",
    "If this dataset is used in academic or public work, it should be cited as:\n",
    "\n",
    "Rabie El Kharoua (2024). *Alzheimer’s Disease Dataset*. Kaggle. DOI: 10.34740/KAGGLE/DSV/8668279\n"
   ]
  },
  {
   "cell_type": "markdown",
   "id": "9a886c59-710c-4c8e-ad5a-76169abbaa9b",
   "metadata": {},
   "source": [
    "--------------------------"
   ]
  }
 ],
 "metadata": {
  "kernelspec": {
   "display_name": "base",
   "language": "python",
   "name": "python3"
  },
  "language_info": {
   "codemirror_mode": {
    "name": "ipython",
    "version": 3
   },
   "file_extension": ".py",
   "mimetype": "text/x-python",
   "name": "python",
   "nbconvert_exporter": "python",
   "pygments_lexer": "ipython3",
   "version": "3.12.7"
  }
 },
 "nbformat": 4,
 "nbformat_minor": 5
}
