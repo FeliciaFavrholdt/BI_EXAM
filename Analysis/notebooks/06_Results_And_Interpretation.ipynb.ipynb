{
 "cells": [
  {
   "cell_type": "markdown",
   "id": "acf8e365-efec-4e83-b80d-742ddbaa7528",
   "metadata": {},
   "source": [
    "# Notebook 06 - Results And Interpretation"
   ]
  },
  {
   "cell_type": "markdown",
   "id": "abbdf254-21e0-44f8-9b64-b5029bdb12cd",
   "metadata": {},
   "source": [
    "In this project, we analyze how Business Intelligence (BI) and Artificial Intelligence (AI) techniques help assess the risk of Alzheimer’s disease. We focus on demographic and lifestyle factors such as age, gender, health conditions, cognitive scores, and daily habits. Our goal is to support early detection and preventive care strategies using data-driven methods."
   ]
  },
  {
   "cell_type": "markdown",
   "id": "01397605-d985-47ca-9fda-68a32b2a3166",
   "metadata": {},
   "source": [
    "In this notebook, we summarize and interpret the results from the previous model training and evaluation. We answer our research questions and discuss which machine learning model performs best for predicting Alzheimer's diagnosis. This notebook also presents a complete summary of the analysis performed on Alzheimer's patient data. It includes supervised model evaluation, clustering analysis, feature importance, and interpretations derived from the earlier notebooks."
   ]
  },
  {
   "cell_type": "markdown",
   "id": "299c727d-2774-4084-8694-7a6629720e68",
   "metadata": {},
   "source": [
    "### Research Goals"
   ]
  },
  {
   "cell_type": "markdown",
   "id": "279201a6-bf4d-4185-893e-45c6e6092874",
   "metadata": {},
   "source": [
    "Our goal is to use patient data, including clinical, cognitive, lifestyle, and demographic features, to predict Alzheimer's diagnosis with supervised machine learning models.\n",
    "\n",
    "We focus on answering these questions:\n",
    "- Can we use patient data to build accurate machine learning models for Alzheimer’s prediction?\n",
    "- Which features are most helpful in predicting Alzheimer’s?\n",
    "- Which machine learning model performs best?"
   ]
  },
  {
   "cell_type": "markdown",
   "id": "1909db62-eab5-4a3a-b4c8-f3d60218d8a6",
   "metadata": {},
   "source": [
    "---"
   ]
  },
  {
   "cell_type": "markdown",
   "id": "d37358f2-4ef3-4fd0-8c67-3d15f87c2a46",
   "metadata": {},
   "source": [
    "### Models Trained"
   ]
  },
  {
   "cell_type": "markdown",
   "id": "8b4bdf3e-10f3-4a51-8ec2-472433403160",
   "metadata": {},
   "source": [
    "We trained and evaluated the following models:\n",
    "- Decision Tree\n",
    "- Random Forest\n",
    "- Logistic Regression\n",
    "- Naive Bayes\n",
    "- Linear Regression (used for illustration)"
   ]
  },
  {
   "cell_type": "markdown",
   "id": "2abb7239-1b5d-41c1-ad72-4c9a96387f1c",
   "metadata": {},
   "source": [
    "---"
   ]
  },
  {
   "cell_type": "markdown",
   "id": "2a3515a1-f255-4a76-8698-4fc987573959",
   "metadata": {},
   "source": [
    "### Load Our Environment"
   ]
  },
  {
   "cell_type": "markdown",
   "id": "e93c41a5-58f7-432f-a85d-e8f99781bf0a",
   "metadata": {},
   "source": [
    "We reuse the same setup from notebook 02. To keep things consistent and avoid repeating code, we import our helper functions from the utils folder and initialize the environment."
   ]
  },
  {
   "cell_type": "code",
   "execution_count": 12,
   "id": "bbadb04b-baa6-435d-9592-f40b4bdb68f3",
   "metadata": {},
   "outputs": [
    {
     "name": "stdout",
     "output_type": "stream",
     "text": [
      "Environment setup complete.\n",
      "All libraries imported and environment initialized.\n"
     ]
    }
   ],
   "source": [
    "# We are adding the parent folder to the Python path so we can import files from the \"utils\" folder\n",
    "import sys\n",
    "sys.path.append(\"..\")\n",
    "\n",
    "# Importing the custom helper functions from our project\n",
    "from utils.setup_notebook import (\n",
    "    init_environment,\n",
    "    load_csv,\n",
    "    print_shape,\n",
    "    print_info,\n",
    "    print_full_info,\n",
    "    print_description,\n",
    "    print_categorical_description,\n",
    "    show_head\n",
    ")\n",
    "\n",
    "from utils.save_tools import save_plot, save_notebook_and_summary\n",
    "\n",
    "# Import used libraries \n",
    "import pandas as pd\n",
    "from IPython.display import display\n",
    "from sklearn.preprocessing import StandardScaler\n",
    "from sklearn.preprocessing import LabelEncoder\n",
    "\n",
    "# Running environment setup\n",
    "init_environment()\n",
    "print(\"All libraries imported and environment initialized.\")"
   ]
  },
  {
   "cell_type": "markdown",
   "id": "5566e8cd-d5f8-4c10-a911-3b06db5922e6",
   "metadata": {},
   "source": [
    "---"
   ]
  },
  {
   "cell_type": "markdown",
   "id": "91782d07-3d27-4460-b71e-73e6e0627050",
   "metadata": {},
   "source": [
    "### Load Our Models "
   ]
  },
  {
   "cell_type": "code",
   "execution_count": 16,
   "id": "fe84d4d0-eb9c-4b6f-bd36-08b26815edfb",
   "metadata": {},
   "outputs": [
    {
     "ename": "ImportError",
     "evalue": "cannot import name 'load_model' from 'utils.setup_notebook' (/Users/favrholdt/Desktop/AlzheimerPredictor4u_BI_Exam/Analysis/notebooks/../utils/setup_notebook.py)",
     "output_type": "error",
     "traceback": [
      "\u001b[0;31m---------------------------------------------------------------------------\u001b[0m",
      "\u001b[0;31mImportError\u001b[0m                               Traceback (most recent call last)",
      "Cell \u001b[0;32mIn[16], line 1\u001b[0m\n\u001b[0;32m----> 1\u001b[0m \u001b[38;5;28;01mfrom\u001b[39;00m \u001b[38;5;21;01mutils\u001b[39;00m\u001b[38;5;21;01m.\u001b[39;00m\u001b[38;5;21;01msetup_notebook\u001b[39;00m \u001b[38;5;28;01mimport\u001b[39;00m load_model\n\u001b[1;32m      3\u001b[0m dt_model \u001b[38;5;241m=\u001b[39m load_model(\u001b[38;5;124m'\u001b[39m\u001b[38;5;124m../models/decision_tree_model.pkl\u001b[39m\u001b[38;5;124m'\u001b[39m, \u001b[38;5;124m'\u001b[39m\u001b[38;5;124mDecision Tree\u001b[39m\u001b[38;5;124m'\u001b[39m)\n\u001b[1;32m      4\u001b[0m rf_model \u001b[38;5;241m=\u001b[39m load_model(\u001b[38;5;124m'\u001b[39m\u001b[38;5;124m../models/random_forest_model.pkl\u001b[39m\u001b[38;5;124m'\u001b[39m, \u001b[38;5;124m'\u001b[39m\u001b[38;5;124mRandom Forest\u001b[39m\u001b[38;5;124m'\u001b[39m)\n",
      "\u001b[0;31mImportError\u001b[0m: cannot import name 'load_model' from 'utils.setup_notebook' (/Users/favrholdt/Desktop/AlzheimerPredictor4u_BI_Exam/Analysis/notebooks/../utils/setup_notebook.py)"
     ]
    }
   ],
   "source": [
    "import sys\n",
    "sys.path.append('../utils')  #\n",
    "\n",
    "import setup_notebook\n",
    "from importlib import reload\n",
    "reload(setup_notebook)\n",
    "\n",
    "from setup_notebook import load_model\n",
    "from utils.setup_notebook import load_model\n",
    "\n",
    "dt_model = load_model('../models/decision_tree_model.pkl', 'Decision Tree')\n",
    "rf_model = load_model('../models/random_forest_model.pkl', 'Random Forest')\n",
    "log_model = load_model('../models/logistic_regression_model.pkl', 'Logistic Regression')\n",
    "nb_model = load_model('../models/naive_bayes_model.pkl', 'Naive Bayes')\n",
    "ms = load_model('../models/mean_shift_model.pkl', 'Mean Shift')\n",
    "\n",
    "print(\"All models loaded.\")"
   ]
  },
  {
   "cell_type": "markdown",
   "id": "662d7c3f-db2d-41bf-9d90-d81344462f62",
   "metadata": {},
   "source": [
    "----"
   ]
  },
  {
   "cell_type": "markdown",
   "id": "595e8ea2-aa56-404c-99fa-570b4b80434b",
   "metadata": {},
   "source": [
    "### Load Model Results "
   ]
  },
  {
   "cell_type": "markdown",
   "id": "3a64d718-d574-41ab-b795-b26471748908",
   "metadata": {},
   "source": [
    "In this section, we load the saved evaluation metrics for the classification models trained in previous notebooks."
   ]
  },
  {
   "cell_type": "code",
   "execution_count": 19,
   "id": "5eb68157-fcf8-4dcd-a139-6bc5ef2fb731",
   "metadata": {},
   "outputs": [
    {
     "data": {
      "text/html": [
       "<div>\n",
       "<style scoped>\n",
       "    .dataframe tbody tr th:only-of-type {\n",
       "        vertical-align: middle;\n",
       "    }\n",
       "\n",
       "    .dataframe tbody tr th {\n",
       "        vertical-align: top;\n",
       "    }\n",
       "\n",
       "    .dataframe thead th {\n",
       "        text-align: right;\n",
       "    }\n",
       "</style>\n",
       "<table border=\"1\" class=\"dataframe\">\n",
       "  <thead>\n",
       "    <tr style=\"text-align: right;\">\n",
       "      <th></th>\n",
       "      <th>model</th>\n",
       "      <th>accuracy</th>\n",
       "      <th>auc</th>\n",
       "      <th>clusters_found</th>\n",
       "    </tr>\n",
       "  </thead>\n",
       "  <tbody>\n",
       "    <tr>\n",
       "      <th>0</th>\n",
       "      <td>Decision Tree</td>\n",
       "      <td>0.77</td>\n",
       "      <td>0.74</td>\n",
       "      <td>NaN</td>\n",
       "    </tr>\n",
       "    <tr>\n",
       "      <th>1</th>\n",
       "      <td>Random Forest</td>\n",
       "      <td>0.85</td>\n",
       "      <td>0.87</td>\n",
       "      <td>NaN</td>\n",
       "    </tr>\n",
       "    <tr>\n",
       "      <th>2</th>\n",
       "      <td>Logistic Regression</td>\n",
       "      <td>0.81</td>\n",
       "      <td>0.83</td>\n",
       "      <td>NaN</td>\n",
       "    </tr>\n",
       "    <tr>\n",
       "      <th>3</th>\n",
       "      <td>Naive Bayes</td>\n",
       "      <td>0.79</td>\n",
       "      <td>0.85</td>\n",
       "      <td>NaN</td>\n",
       "    </tr>\n",
       "    <tr>\n",
       "      <th>4</th>\n",
       "      <td>Linear Regression</td>\n",
       "      <td>0.82</td>\n",
       "      <td>0.86</td>\n",
       "      <td>NaN</td>\n",
       "    </tr>\n",
       "    <tr>\n",
       "      <th>5</th>\n",
       "      <td>Mean-Shift Clustering</td>\n",
       "      <td>NaN</td>\n",
       "      <td>NaN</td>\n",
       "      <td>6.0</td>\n",
       "    </tr>\n",
       "  </tbody>\n",
       "</table>\n",
       "</div>"
      ],
      "text/plain": [
       "                   model  accuracy   auc  clusters_found\n",
       "0          Decision Tree      0.77  0.74             NaN\n",
       "1          Random Forest      0.85  0.87             NaN\n",
       "2    Logistic Regression      0.81  0.83             NaN\n",
       "3            Naive Bayes      0.79  0.85             NaN\n",
       "4      Linear Regression      0.82  0.86             NaN\n",
       "5  Mean-Shift Clustering       NaN   NaN             6.0"
      ]
     },
     "metadata": {},
     "output_type": "display_data"
    }
   ],
   "source": [
    "import json\n",
    "import pandas as pd\n",
    "\n",
    "# Load saved model results\n",
    "with open('../data/model_results.json') as f:\n",
    "    model_results = json.load(f)\n",
    "\n",
    "# Create dataframe\n",
    "results_df = pd.DataFrame(model_results)\n",
    "display(results_df)"
   ]
  },
  {
   "cell_type": "markdown",
   "id": "21180df3-4de1-4ce8-84d0-b3df6a94f041",
   "metadata": {},
   "source": [
    "------"
   ]
  },
  {
   "cell_type": "markdown",
   "id": "361d6bdf-18c8-4526-a07b-6cea77e82a0b",
   "metadata": {},
   "source": [
    "### Model AUC Comparison"
   ]
  },
  {
   "cell_type": "markdown",
   "id": "4ef978b8-bd1b-4430-803a-bdbbaf70223e",
   "metadata": {},
   "source": [
    "We visualize the AUC scores for each classification model to compare their predictive performance."
   ]
  },
  {
   "cell_type": "code",
   "execution_count": 28,
   "id": "05cd5455-2846-4cdc-b25e-2c0fc5f9c8a8",
   "metadata": {},
   "outputs": [
    {
     "name": "stderr",
     "output_type": "stream",
     "text": [
      "/var/folders/ct/0p5jxxp54xlcjs_q4dwkbdd80000gn/T/ipykernel_83673/1202152395.py:5: FutureWarning: \n",
      "\n",
      "Passing `palette` without assigning `hue` is deprecated and will be removed in v0.14.0. Assign the `x` variable to `hue` and set `legend=False` for the same effect.\n",
      "\n",
      "  sns.barplot(x='model', y='auc', data=results_df, palette='Blues')\n"
     ]
    },
    {
     "data": {
      "image/png": "[encoded data removed]",
      "text/plain": [
       "<Figure size 1000x600 with 1 Axes>"
      ]
     },
     "metadata": {},
     "output_type": "display_data"
    }
   ],
   "source": [
    "import matplotlib.pyplot as plt\n",
    "import seaborn as sns\n",
    "\n",
    "plt.figure(figsize=(10, 6))  # Slightly wider figure\n",
    "sns.barplot(x='model', y='auc', data=results_df, palette='Blues')\n",
    "plt.title('Model AUC Comparison')\n",
    "plt.ylabel('AUC Score')\n",
    "plt.xlabel('Model')\n",
    "plt.ylim(0.7, 1.0)\n",
    "\n",
    "plt.xticks(rotation=30, ha='right')  # Rotate x-axis labels 30 degrees\n",
    "\n",
    "plt.tight_layout()  # Adjust layout so labels fit nicely\n",
    "plt.show()"
   ]
  },
  {
   "cell_type": "markdown",
   "id": "eb30b0ef-823f-409b-a6f1-2d5778b877c5",
   "metadata": {},
   "source": [
    "---"
   ]
  },
  {
   "cell_type": "markdown",
   "id": "0c3ed6ca-19ee-46fa-88bc-912c9839a8b7",
   "metadata": {},
   "source": [
    "### Load Confusion Matrix for Random Forest"
   ]
  },
  {
   "cell_type": "markdown",
   "id": "52b61371-3c24-462d-a08c-5cc23f7c59dd",
   "metadata": {},
   "source": [
    "We analyze the confusion matrix for the Random Forest model, which achieved the best performance."
   ]
  },
  {
   "cell_type": "code",
   "execution_count": 34,
   "id": "b7772155-9cbc-4f03-a7fa-e1bc09eee783",
   "metadata": {},
   "outputs": [
    {
     "ename": "NameError",
     "evalue": "name 'y_test' is not defined",
     "output_type": "error",
     "traceback": [
      "\u001b[0;31m---------------------------------------------------------------------------\u001b[0m",
      "\u001b[0;31mNameError\u001b[0m                                 Traceback (most recent call last)",
      "Cell \u001b[0;32mIn[34], line 3\u001b[0m\n\u001b[1;32m      1\u001b[0m \u001b[38;5;28;01mfrom\u001b[39;00m \u001b[38;5;21;01msklearn\u001b[39;00m\u001b[38;5;21;01m.\u001b[39;00m\u001b[38;5;21;01mmetrics\u001b[39;00m \u001b[38;5;28;01mimport\u001b[39;00m confusion_matrix\n\u001b[0;32m----> 3\u001b[0m rf_cm \u001b[38;5;241m=\u001b[39m confusion_matrix(y_test, rf_pred)\n\u001b[1;32m      5\u001b[0m plt\u001b[38;5;241m.\u001b[39mfigure(figsize\u001b[38;5;241m=\u001b[39m(\u001b[38;5;241m5\u001b[39m, \u001b[38;5;241m4\u001b[39m))\n\u001b[1;32m      6\u001b[0m sns\u001b[38;5;241m.\u001b[39mheatmap(rf_cm, annot\u001b[38;5;241m=\u001b[39m\u001b[38;5;28;01mTrue\u001b[39;00m, fmt\u001b[38;5;241m=\u001b[39m\u001b[38;5;124m'\u001b[39m\u001b[38;5;124md\u001b[39m\u001b[38;5;124m'\u001b[39m, cmap\u001b[38;5;241m=\u001b[39m\u001b[38;5;124m'\u001b[39m\u001b[38;5;124mGreens\u001b[39m\u001b[38;5;124m'\u001b[39m, cbar\u001b[38;5;241m=\u001b[39m\u001b[38;5;28;01mFalse\u001b[39;00m,\n\u001b[1;32m      7\u001b[0m xticklabels\u001b[38;5;241m=\u001b[39m[\u001b[38;5;124m'\u001b[39m\u001b[38;5;124mNo Alzheimer’s\u001b[39m\u001b[38;5;124m'\u001b[39m, \u001b[38;5;124m'\u001b[39m\u001b[38;5;124mAlzheimer’s\u001b[39m\u001b[38;5;124m'\u001b[39m],\n\u001b[1;32m      8\u001b[0m yticklabels\u001b[38;5;241m=\u001b[39m[\u001b[38;5;124m'\u001b[39m\u001b[38;5;124mNo Alzheimer’s\u001b[39m\u001b[38;5;124m'\u001b[39m, \u001b[38;5;124m'\u001b[39m\u001b[38;5;124mAlzheimer’s\u001b[39m\u001b[38;5;124m'\u001b[39m])\n",
      "\u001b[0;31mNameError\u001b[0m: name 'y_test' is not defined"
     ]
    }
   ],
   "source": [
    "from sklearn.metrics import confusion_matrix\n",
    "\n",
    "rf_cm = confusion_matrix(y_test, rf_pred)\n",
    "\n",
    "plt.figure(figsize=(5, 4))\n",
    "sns.heatmap(rf_cm, annot=True, fmt='d', cmap='Greens', cbar=False,\n",
    "xticklabels=['No Alzheimer’s', 'Alzheimer’s'],\n",
    "yticklabels=['No Alzheimer’s', 'Alzheimer’s'])\n",
    "plt.xlabel('Predicted')\n",
    "plt.ylabel('Actual')\n",
    "plt.title('Confusion Matrix – Random Forest')\n",
    "plt.tight_layout()\n",
    "plt.show()"
   ]
  },
  {
   "cell_type": "markdown",
   "id": "26e14bab-d13c-4f85-90a2-db1e66115848",
   "metadata": {},
   "source": [
    "---"
   ]
  },
  {
   "cell_type": "markdown",
   "id": "d6ed7dd0-48f5-414e-92bb-05fca98f6504",
   "metadata": {},
   "source": [
    "### Precision, Recall, and F1-Score for Class 1 (Alzheimer’s)"
   ]
  },
  {
   "cell_type": "markdown",
   "id": "888eddd5-98d5-4034-b4c8-398db4b3877d",
   "metadata": {},
   "source": [
    "We focus on performance metrics for class 1, which represents Alzheimer’s patients, to evaluate how well models detect the group at highest risk"
   ]
  },
  {
   "cell_type": "code",
   "execution_count": 105,
   "id": "0e07f2de-a01c-4a15-a0eb-d13abd96ae4b",
   "metadata": {},
   "outputs": [
    {
     "data": {
      "text/html": [
       "<div>\n",
       "<style scoped>\n",
       "    .dataframe tbody tr th:only-of-type {\n",
       "        vertical-align: middle;\n",
       "    }\n",
       "\n",
       "    .dataframe tbody tr th {\n",
       "        vertical-align: top;\n",
       "    }\n",
       "\n",
       "    .dataframe thead th {\n",
       "        text-align: right;\n",
       "    }\n",
       "</style>\n",
       "<table border=\"1\" class=\"dataframe\">\n",
       "  <thead>\n",
       "    <tr style=\"text-align: right;\">\n",
       "      <th></th>\n",
       "      <th>Precision</th>\n",
       "      <th>Recall</th>\n",
       "      <th>F1-Score</th>\n",
       "    </tr>\n",
       "  </thead>\n",
       "  <tbody>\n",
       "    <tr>\n",
       "      <th>Decision Tree</th>\n",
       "      <td>0.67</td>\n",
       "      <td>0.65</td>\n",
       "      <td>0.66</td>\n",
       "    </tr>\n",
       "    <tr>\n",
       "      <th>Random Forest</th>\n",
       "      <td>0.86</td>\n",
       "      <td>0.89</td>\n",
       "      <td>0.87</td>\n",
       "    </tr>\n",
       "    <tr>\n",
       "      <th>Logistic Regression</th>\n",
       "      <td>0.69</td>\n",
       "      <td>0.60</td>\n",
       "      <td>0.64</td>\n",
       "    </tr>\n",
       "  </tbody>\n",
       "</table>\n",
       "</div>"
      ],
      "text/plain": [
       "                     Precision  Recall  F1-Score\n",
       "Decision Tree             0.67    0.65      0.66\n",
       "Random Forest             0.86    0.89      0.87\n",
       "Logistic Regression       0.69    0.60      0.64"
      ]
     },
     "metadata": {},
     "output_type": "display_data"
    }
   ],
   "source": [
    "comparison_df = pd.DataFrame({\n",
    "'Decision Tree': {'Precision': 0.67, 'Recall': 0.65, 'F1-Score': 0.66},\n",
    "'Random Forest': {'Precision': 0.86, 'Recall': 0.89, 'F1-Score': 0.87},\n",
    "'Logistic Regression': {'Precision': 0.69, 'Recall': 0.60, 'F1-Score': 0.64}\n",
    "}).T\n",
    "\n",
    "comparison_df = comparison_df.round(2)\n",
    "display(comparison_df)"
   ]
  },
  {
   "cell_type": "markdown",
   "id": "e48dde54-a7b1-4166-ae58-f201fe5ba3e7",
   "metadata": {},
   "source": [
    "---"
   ]
  },
  {
   "cell_type": "markdown",
   "id": "cce24231-c4f1-453c-99a4-fb82c83b9d62",
   "metadata": {},
   "source": [
    "### Visualize Class 1 Performance Comparison"
   ]
  },
  {
   "cell_type": "code",
   "execution_count": 108,
   "id": "0c95b068-83b3-414d-b4ee-771ca0eefcc2",
   "metadata": {},
   "outputs": [
    {
     "data": {
      "image/png": "[encoded data removed]",
      "text/plain": [
       "<Figure size 800x600 with 1 Axes>"
      ]
     },
     "metadata": {},
     "output_type": "display_data"
    }
   ],
   "source": [
    "comparison_df.plot(kind='bar', figsize=(8, 6))\n",
    "plt.title('Precision, Recall and F1-Score for Alzheimer’s Class 1')\n",
    "plt.ylabel('Score')\n",
    "plt.ylim(0, 1)\n",
    "plt.grid(alpha=0.3)\n",
    "plt.tight_layout()\n",
    "plt.show()"
   ]
  },
  {
   "cell_type": "markdown",
   "id": "3541b4bd-edd2-4718-85e5-97433b50e0ad",
   "metadata": {},
   "source": [
    "---"
   ]
  },
  {
   "cell_type": "markdown",
   "id": "4ed94d61-1bc1-46d9-8da6-0976ba0e05b3",
   "metadata": {},
   "source": [
    "### Feature Importance: Random Forest"
   ]
  },
  {
   "cell_type": "markdown",
   "id": "62f55120-61a8-47a0-a19d-7f75566034ad",
   "metadata": {},
   "source": [
    "We now analyze which features had the strongest influence on Alzheimer’s diagnosis according to the Random Forest model."
   ]
  },
  {
   "cell_type": "code",
   "execution_count": 112,
   "id": "ecb305bb-5af0-41f2-8ff4-bee44bb597c7",
   "metadata": {},
   "outputs": [
    {
     "ename": "NameError",
     "evalue": "name 'X' is not defined",
     "output_type": "error",
     "traceback": [
      "\u001b[0;31m---------------------------------------------------------------------------\u001b[0m",
      "\u001b[0;31mNameError\u001b[0m                                 Traceback (most recent call last)",
      "Cell \u001b[0;32mIn[112], line 2\u001b[0m\n\u001b[1;32m      1\u001b[0m importances \u001b[38;5;241m=\u001b[39m rf_model\u001b[38;5;241m.\u001b[39mfeature_importances_\n\u001b[0;32m----> 2\u001b[0m features \u001b[38;5;241m=\u001b[39m X\u001b[38;5;241m.\u001b[39mcolumns\n\u001b[1;32m      4\u001b[0m importance_df \u001b[38;5;241m=\u001b[39m pd\u001b[38;5;241m.\u001b[39mDataFrame({\u001b[38;5;124m'\u001b[39m\u001b[38;5;124mFeature\u001b[39m\u001b[38;5;124m'\u001b[39m: features, \u001b[38;5;124m'\u001b[39m\u001b[38;5;124mImportance\u001b[39m\u001b[38;5;124m'\u001b[39m: importances})\n\u001b[1;32m      5\u001b[0m importance_df \u001b[38;5;241m=\u001b[39m importance_df\u001b[38;5;241m.\u001b[39msort_values(\u001b[38;5;124m'\u001b[39m\u001b[38;5;124mImportance\u001b[39m\u001b[38;5;124m'\u001b[39m, ascending\u001b[38;5;241m=\u001b[39m\u001b[38;5;28;01mTrue\u001b[39;00m)\n",
      "\u001b[0;31mNameError\u001b[0m: name 'X' is not defined"
     ]
    }
   ],
   "source": [
    "importances = rf_model.feature_importances_\n",
    "features = X.columns\n",
    "\n",
    "importance_df = pd.DataFrame({'Feature': features, 'Importance': importances})\n",
    "importance_df = importance_df.sort_values('Importance', ascending=True)\n",
    "\n",
    "plt.figure(figsize=(8, 6))\n",
    "plt.barh(importance_df['Feature'], importance_df['Importance'], color='#4C72B0')\n",
    "plt.title('Feature Importance - Random Forest')\n",
    "plt.xlabel('Relative Importance')\n",
    "plt.tight_layout()\n",
    "plt.show()"
   ]
  },
  {
   "cell_type": "markdown",
   "id": "d769a295-769c-4703-aac5-0dcdae251643",
   "metadata": {},
   "source": [
    "#### Supervised Model Summary"
   ]
  },
  {
   "cell_type": "markdown",
   "id": "18b3b80e-2226-4a2d-ab32-d7a796c9e7d4",
   "metadata": {},
   "source": [
    "Random Forest achieved the highest accuracy and AUC for Alzheimer’s classification, with MMSE, ADL, Functional Assessment, and Depression emerging as the most predictive features."
   ]
  },
  {
   "cell_type": "markdown",
   "id": "f8fafbb5-e12a-494a-9829-dc3aea2ae869",
   "metadata": {},
   "source": [
    "---"
   ]
  },
  {
   "cell_type": "markdown",
   "id": "6fdb3748-cb9d-4268-bd28-d13746767c68",
   "metadata": {},
   "source": [
    "## Unsupervised Learning: Clustering Results"
   ]
  },
  {
   "cell_type": "markdown",
   "id": "84860dce-2779-4940-af33-31e68f90ff85",
   "metadata": {},
   "source": [
    "We now present the results of the clustering analysis conducted using both KMeans and Mean-Shift algorithms."
   ]
  },
  {
   "cell_type": "markdown",
   "id": "916fb030-92fa-416e-849f-d2a90a33a217",
   "metadata": {},
   "source": [
    "#### Cluster Profiles Interpretation"
   ]
  },
  {
   "cell_type": "markdown",
   "id": "e6fcb73d-0cae-4a1a-8b6e-7781387310c8",
   "metadata": {},
   "source": [
    "The following table summarizes the clinical interpretation of the clusters identified.\n",
    "\n",
    "| Cluster  | Key Observations                               |\n",
    "|----------|--------------------------------------------------|\n",
    "| Cluster 0 | Baseline / average cluster                      |\n",
    "| Cluster 1 | Mild Depression / Preserved Cognition           |\n",
    "| Cluster 2 | Cardiovascular Risk / High MMSE                 |\n",
    "| Cluster 3 | Young + Functional Limitations + Depression     |\n",
    "| Cluster 4 | Physically Active / Cognitive Impairment        |\n",
    "| Cluster 5 | Family History / Genetic Risk / Depression      |"
   ]
  },
  {
   "cell_type": "markdown",
   "id": "54105cd0-eab3-4a72-a234-5af3bf801e94",
   "metadata": {},
   "source": [
    "---"
   ]
  },
  {
   "cell_type": "markdown",
   "id": "e952aa46-6359-4679-9849-f32fb9f4a57a",
   "metadata": {},
   "source": [
    "### KMeans Clustering Visualization (PCA Reduced)"
   ]
  },
  {
   "cell_type": "markdown",
   "id": "337f3e4b-8ca5-4f31-9c3e-3c0b0eefa623",
   "metadata": {},
   "source": [
    "We use PCA to project the high-dimensional feature space into 2 dimensions for visualization of clustering results."
   ]
  },
  {
   "cell_type": "code",
   "execution_count": 121,
   "id": "18b48874-c33b-46cf-9aed-8b5c1631d7f8",
   "metadata": {},
   "outputs": [
    {
     "ename": "IndentationError",
     "evalue": "expected an indented block after 'for' statement on line 5 (2444773122.py, line 6)",
     "output_type": "error",
     "traceback": [
      "\u001b[0;36m  Cell \u001b[0;32mIn[121], line 6\u001b[0;36m\u001b[0m\n\u001b[0;31m    plt.scatter(\u001b[0m\n\u001b[0m    ^\u001b[0m\n\u001b[0;31mIndentationError\u001b[0m\u001b[0;31m:\u001b[0m expected an indented block after 'for' statement on line 5\n"
     ]
    }
   ],
   "source": [
    "plt.figure(figsize=(8, 6))\n",
    "\n",
    "colors = ['red', 'blue', 'green', 'orange', 'purple', 'brown', 'gray']\n",
    "\n",
    "for cluster in sorted(set(kmeans_labels)):\n",
    "plt.scatter(\n",
    "X_pca[kmeans_labels == cluster, 0],\n",
    "X_pca[kmeans_labels == cluster, 1],\n",
    "color=colors[cluster % len(colors)],\n",
    "label=cluster_labels.get(cluster, f\"Cluster {cluster}\"),\n",
    "alpha=0.7,\n",
    "edgecolor='black',\n",
    "s=80\n",
    ")\n",
    "\n",
    "plt.title(\"KMeans Clustering (PCA Reduced)\")\n",
    "plt.xlabel(\"Principal Component 1\")\n",
    "plt.ylabel(\"Principal Component 2\")\n",
    "plt.legend(title=\"Clusters\", bbox_to_anchor=(1.05, 1), loc='upper left')\n",
    "plt.grid(alpha=0.3)\n",
    "plt.tight_layout()\n",
    "plt.show()"
   ]
  },
  {
   "cell_type": "markdown",
   "id": "b67dfc99-bfb8-4335-953a-b5b2ec770f79",
   "metadata": {},
   "source": [
    "---"
   ]
  },
  {
   "cell_type": "markdown",
   "id": "032636e4-c123-405b-afc8-60997c4f88ca",
   "metadata": {},
   "source": [
    "### Mean-Shift Clustering Visualization (PCA Reduced)"
   ]
  },
  {
   "cell_type": "markdown",
   "id": "6c6e9587-38e7-4a41-9d52-58516e45f1b0",
   "metadata": {},
   "source": [
    "We visualize the clusters generated by Mean-Shift using the same PCA projection."
   ]
  },
  {
   "cell_type": "code",
   "execution_count": 126,
   "id": "783fd673-7e2d-4377-b590-bff76c67e5b1",
   "metadata": {},
   "outputs": [
    {
     "ename": "IndentationError",
     "evalue": "expected an indented block after 'for' statement on line 3 (1424538835.py, line 4)",
     "output_type": "error",
     "traceback": [
      "\u001b[0;36m  Cell \u001b[0;32mIn[126], line 4\u001b[0;36m\u001b[0m\n\u001b[0;31m    plt.scatter(\u001b[0m\n\u001b[0m    ^\u001b[0m\n\u001b[0;31mIndentationError\u001b[0m\u001b[0;31m:\u001b[0m expected an indented block after 'for' statement on line 3\n"
     ]
    }
   ],
   "source": [
    "plt.figure(figsize=(8, 6))\n",
    "\n",
    "for cluster in sorted(set(ms_labels)):\n",
    "plt.scatter(\n",
    "X_pca[ms_labels == cluster, 0],\n",
    "X_pca[ms_labels == cluster, 1],\n",
    "color=colors[cluster % len(colors)],\n",
    "label=cluster_labels.get(cluster, f\"Cluster {cluster}\"),\n",
    "alpha=0.7,\n",
    "edgecolor='black',\n",
    "s=80\n",
    ")\n",
    "\n",
    "plt.title(\"Mean-Shift Clustering (PCA Reduced)\")\n",
    "plt.xlabel(\"Principal Component 1\")\n",
    "plt.ylabel(\"Principal Component 2\")\n",
    "plt.legend(title=\"Clusters\", bbox_to_anchor=(1.05, 1), loc='upper left')\n",
    "plt.grid(alpha=0.3)\n",
    "plt.tight_layout()\n",
    "plt.show()"
   ]
  },
  {
   "cell_type": "markdown",
   "id": "dcfceacf-27b0-4eca-b515-ac04447ca716",
   "metadata": {},
   "source": [
    "---"
   ]
  },
  {
   "cell_type": "markdown",
   "id": "c76032d2-f6ad-4f36-9031-b371a772c679",
   "metadata": {},
   "source": [
    "## Final Interpretation"
   ]
  },
  {
   "cell_type": "markdown",
   "id": "4640e72e-ba30-425b-a5ec-19dd962562a5",
   "metadata": {},
   "source": [
    "The Random Forest model achieved the best classification performance, identifying key features influencing Alzheimer's diagnosis. Clustering results revealed several distinct patient subgroups based on combinations of cognitive scores, medical comorbidities, functional assessments, and family history. Together, these supervised and unsupervised approaches offer complementary insights that may assist early detection and targeted intervention for Alzheimer's disease. Below we answer out questions:"
   ]
  },
  {
   "cell_type": "markdown",
   "id": "e47577b1-5998-49fe-8b10-7abe4fd7c0d7",
   "metadata": {},
   "source": [
    "- Can we use patient data to build accurate machine learning models for Alzheimer’s prediction?\n",
    "\n",
    "- Which features are most helpful in predicting Alzheimer’s?\n",
    "\n",
    "- Which machine learning model performs best?"
   ]
  },
  {
   "cell_type": "markdown",
   "id": "917a55ef-22d7-48a3-aad6-ea86dc09d211",
   "metadata": {},
   "source": [
    "---"
   ]
  },
  {
   "cell_type": "markdown",
   "id": "a46780da-933c-4932-b69a-241aec28978b",
   "metadata": {},
   "source": [
    "### Answering Research Questions from Notebook 01"
   ]
  },
  {
   "cell_type": "markdown",
   "id": "a08f927c-d27e-4eb5-8f74-64f672c476a7",
   "metadata": {},
   "source": [
    "**Can we predict the risk of Alzheimer’s disease based on demographic and lifestyle factors?**\n",
    "\n",
    "We build multiple machine learning models to predict Alzheimer’s risk. Our best model, Random Forest, achieves strong performance with an AUC of 0.87, showing that these features allow accurate risk prediction.\n",
    "\n",
    "**Which health and lifestyle features are most predictive of an Alzheimer’s diagnosis?**\n",
    "\n",
    "We observe that cognitive test scores (especially MMSE), ADL (Activities of Daily Living), Functional Assessment, Depression, and Family History play the largest roles in predicting Alzheimer’s diagnosis. Lifestyle factors like physical activity contribute but have lower importance compared to cognitive scores.\n",
    "\n",
    "**Can we build a predictive dashboard to support clinical decision-making?**\n",
    "\n",
    "We save all models, visualizations, and clustering results that can be easily integrated into a dashboard. The results can support healthcare staff in identifying high-risk patients early and understanding which factors contribute to risk."
   ]
  },
  {
   "cell_type": "markdown",
   "id": "16da9f04-51d3-4e34-a073-77b6eaaeee4c",
   "metadata": {},
   "source": [
    "---"
   ]
  },
  {
   "cell_type": "markdown",
   "id": "e4efd121-63e9-40c2-9482-852aba43a967",
   "metadata": {},
   "source": [
    "### Answering Hypothesis "
   ]
  },
  {
   "cell_type": "markdown",
   "id": "39a7ae79-de6f-403d-8f60-9750c11fc3c0",
   "metadata": {},
   "source": [
    "- H1: Patients over 75 are more likely to be diagnosed with Alzheimer’s.\n",
    "\n",
    "We observe that age contributes to risk, but cognitive test scores have stronger predictive power. Age interacts with other variables but is not the sole driver of prediction.\n",
    "\n",
    "- H2: Lower MMSE and higher CDR scores are strong indicators of Alzheimer’s diagnosis.\n",
    "\n",
    "We confirm this hypothesis. MMSE and CDR are among the top features identified by feature importance and model evaluations.\n",
    "\n",
    "- H3: Higher physical activity and better diet quality are linked to lower risk.\n",
    "\n",
    "We partially confirm this. Physical activity shows some relationship to risk in cluster profiles, but cognitive and functional scores remain dominant. Diet quality is not directly measured in the dataset."
   ]
  },
  {
   "cell_type": "markdown",
   "id": "60c57aae-5652-4633-9deb-5e8cb3ed36e8",
   "metadata": {},
   "source": [
    "---"
   ]
  },
  {
   "cell_type": "markdown",
   "id": "e053fd4d-ab2c-4fa1-ac27-327cc09b6ffa",
   "metadata": {},
   "source": [
    "### Limitations"
   ]
  },
  {
   "cell_type": "code",
   "execution_count": null,
   "id": "ab98ca03-9726-48e0-89da-e956372bfb0a",
   "metadata": {},
   "outputs": [],
   "source": []
  },
  {
   "cell_type": "markdown",
   "id": "4785ca26-c839-48b4-8c02-86b3e564fb27",
   "metadata": {},
   "source": [
    "---"
   ]
  },
  {
   "cell_type": "markdown",
   "id": "f4d84681-8c37-43cd-abdb-86e22aaf5560",
   "metadata": {},
   "source": [
    "## Notebook Summary "
   ]
  },
  {
   "cell_type": "code",
   "execution_count": null,
   "id": "d7e34330-b142-4d2f-a621-e9dcd12afe2e",
   "metadata": {},
   "outputs": [],
   "source": []
  },
  {
   "cell_type": "code",
   "execution_count": 29,
   "id": "08610046-46e9-4230-86f6-bf4d4d85b428",
   "metadata": {},
   "outputs": [
    {
     "name": "stdout",
     "output_type": "stream",
     "text": [
      "Summary saved to: ../reports/06_results_and_interpretation_summary_2025-06-14_23-31-54.json\n"
     ]
    }
   ],
   "source": [
    "import sys\n",
    "sys.path.append(\"..\")\n",
    "\n",
    "from utils.save_tools import save_notebook_and_summary\n",
    "\n",
    "save_notebook_and_summary(\n",
    "    notebook_name=\"06_results_and_interpretation\",\n",
    "    summary={\n",
    "        \"description\": \"Summarized model results and answered research questions from the Alzheimer's ML project.\",\n",
    "        \"best_model\": \"Random Forest\",\n",
    "        \"best_accuracy\": 0.85,\n",
    "        \"best_auc\": 0.87,\n",
    "        \"models_evaluated\": [\n",
    "            {\"model\": \"Decision Tree\", \"accuracy\": 0.77, \"auc\": 0.74},\n",
    "            {\"model\": \"Random Forest\", \"accuracy\": 0.85, \"auc\": 0.87},\n",
    "            {\"model\": \"Logistic Regression\", \"accuracy\": 0.81, \"auc\": 0.83},\n",
    "            {\"model\": \"Naive Bayes\", \"accuracy\": 0.79, \"auc\": 0.85},\n",
    "            {\"model\": \"Linear Regression\", \"accuracy\": 0.82, \"auc\": 0.86}\n",
    "        ],\n",
    "        \"key_findings\": [\n",
    "            \"Cognitive and functional features are most predictive for Alzheimer's diagnosis.\",\n",
    "            \"Random Forest achieved the highest accuracy (85%) and ROC AUC (0.87).\",\n",
    "            \"Logistic Regression and Linear Regression also showed strong balanced performance.\",\n",
    "            \"Naive Bayes performed slightly lower but still usable.\",\n",
    "            \"All models demonstrated predictive power using patient-level clinical data.\"\n",
    "        ],\n",
    "        \"next_step\": \"Deploy Random Forest model into Streamlit app for clinical testing and usability.\"\n",
    "    }\n",
    ")\n"
   ]
  },
  {
   "cell_type": "markdown",
   "id": "b5ce4b6e-885b-4096-b0d6-2893dd013fbf",
   "metadata": {},
   "source": [
    "-----"
   ]
  }
 ],
 "metadata": {
  "kernelspec": {
   "display_name": "Python [conda env:base] *",
   "language": "python",
   "name": "conda-base-py"
  },
  "language_info": {
   "codemirror_mode": {
    "name": "ipython",
    "version": 3
   },
   "file_extension": ".py",
   "mimetype": "text/x-python",
   "name": "python",
   "nbconvert_exporter": "python",
   "pygments_lexer": "ipython3",
   "version": "3.12.2"
  }
 },
 "nbformat": 4,
 "nbformat_minor": 5
}
